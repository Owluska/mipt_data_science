{
 "cells": [
  {
   "cell_type": "code",
   "execution_count": 300,
   "metadata": {},
   "outputs": [],
   "source": [
    "from __future__ import division\n",
    "import pandas as pd\n",
    "from numpy import random\n",
    "import numpy as np\n",
    "import matplotlib.pyplot as plt\n",
    "# import dask.dataframe as dd"
   ]
  },
  {
   "cell_type": "markdown",
   "metadata": {},
   "source": [
    "# Loading train df\n",
    "\n",
    "Загрузка `train_df` без признака `row_id` - дублирует индекс"
   ]
  },
  {
   "cell_type": "code",
   "execution_count": 301,
   "metadata": {},
   "outputs": [],
   "source": [
    "chunksize = 10 ** 5\n",
    "dtypes = {\n",
    "            'timestamp': 'int64',\n",
    "            'user_id': 'int32',\n",
    "            'content_id': 'int16',\n",
    "            'content_type_id': 'int8',\n",
    "            'task_container_id': 'int16',\n",
    "            'user_answer': 'int8',\n",
    "            'answered_correctly':'int8',\n",
    "            'prior_question_elapsed_time': 'float32',\n",
    "            'prior_question_had_explanation': 'object'\n",
    "            }\n",
    "train_path = '/home/ksu/Desktop/magistr/homework/HW_2/data/train.csv'\n",
    "if chunksize:\n",
    "    chunks = pd.read_csv(train_path, usecols=[1,2,3,4,5,6,7,8,9],\n",
    "                         dtype=dtypes, chunksize=chunksize, low_memory=False)\n",
    "    train_df = pd.DataFrame(chunks.get_chunk(chunksize))\n",
    "    # df=pd.concat(chunk for chunk in chunks)\n",
    "else:\n",
    "    train_df = pd.read_csv(train_path, usecols=[1,2,3,4,5,6,7,8,9], dtype=dtypes)"
   ]
  },
  {
   "cell_type": "markdown",
   "metadata": {},
   "source": [
    "# Loading questions and lectures data"
   ]
  },
  {
   "cell_type": "code",
   "execution_count": 302,
   "metadata": {},
   "outputs": [],
   "source": [
    "questions_df = pd.read_csv('/home/ksu/Desktop/magistr/homework/HW_2/data/questions.csv')\n",
    "lectures_df = pd.read_csv('/home/ksu/Desktop/magistr/homework/HW_2/data/lectures.csv')"
   ]
  },
  {
   "cell_type": "markdown",
   "metadata": {},
   "source": [
    "## Merging data"
   ]
  },
  {
   "cell_type": "code",
   "execution_count": 303,
   "metadata": {},
   "outputs": [
    {
     "name": "stdout",
     "output_type": "stream",
     "text": [
      "<class 'pandas.core.frame.DataFrame'>\n",
      "Int64Index: 100000 entries, 0 to 99999\n",
      "Data columns (total 18 columns):\n",
      "timestamp                         100000 non-null int64\n",
      "user_id                           100000 non-null int32\n",
      "content_id                        100000 non-null int16\n",
      "content_type_id                   100000 non-null int8\n",
      "task_container_id                 100000 non-null int16\n",
      "user_answer                       100000 non-null int8\n",
      "answered_correctly                100000 non-null int8\n",
      "prior_question_elapsed_time       97834 non-null float32\n",
      "prior_question_had_explanation    99652 non-null object\n",
      "question_id                       98872 non-null float64\n",
      "bundle_id                         98872 non-null float64\n",
      "correct_answer                    98872 non-null float64\n",
      "part_question                     98872 non-null float64\n",
      "tags                              98872 non-null object\n",
      "lecture_id                        3065 non-null float64\n",
      "tag                               3065 non-null float64\n",
      "part_lecture                      3065 non-null float64\n",
      "type_of                           3065 non-null object\n",
      "dtypes: float32(1), float64(7), int16(2), int32(1), int64(1), int8(3), object(3)\n",
      "memory usage: 10.6+ MB\n"
     ]
    }
   ],
   "source": [
    "train = pd.merge(train_df, questions_df, left_on = 'content_id', right_on = 'question_id', how = 'left')\n",
    "train = pd.merge(train, lectures_df, left_on = 'content_id', right_on = 'lecture_id', how = 'left', suffixes=('_question', '_lecture'))\n",
    "train.info()"
   ]
  },
  {
   "attachments": {},
   "cell_type": "markdown",
   "metadata": {},
   "source": [
    "## Data cleaning"
   ]
  },
  {
   "cell_type": "code",
   "execution_count": 304,
   "metadata": {},
   "outputs": [
    {
     "name": "stdout",
     "output_type": "stream",
     "text": [
      "prior_question_elapsed_time min value: 0.666000008583 max value 272.0\n",
      "\n",
      "<class 'pandas.core.frame.DataFrame'>\n",
      "Int64Index: 1244 entries, 18 to 99888\n",
      "Data columns (total 18 columns):\n",
      "timestamp                         1244 non-null int64\n",
      "user_id                           1244 non-null int32\n",
      "content_id                        1244 non-null int16\n",
      "content_type_id                   1244 non-null int8\n",
      "task_container_id                 1244 non-null int16\n",
      "user_answer                       1244 non-null int8\n",
      "answered_correctly                1244 non-null int8\n",
      "prior_question_elapsed_time       1244 non-null int16\n",
      "prior_question_had_explanation    1244 non-null int8\n",
      "question_id                       1244 non-null float64\n",
      "bundle_id                         1244 non-null float64\n",
      "correct_answer                    1244 non-null float64\n",
      "part_question                     1244 non-null float64\n",
      "tags                              1244 non-null object\n",
      "lecture_id                        1244 non-null float64\n",
      "tag                               1244 non-null float64\n",
      "part_lecture                      1244 non-null float64\n",
      "type_of                           1244 non-null object\n",
      "dtypes: float64(7), int16(3), int32(1), int64(1), int8(4), object(2)\n",
      "memory usage: 123.9+ KB\n"
     ]
    }
   ],
   "source": [
    "train.dropna(inplace=True)\n",
    "train['prior_question_had_explanation'] = (\n",
    "    train['prior_question_had_explanation'].\n",
    "    apply(lambda has_explanation: 1 if has_explanation == 'True' else 0)\n",
    ")\n",
    "train['prior_question_had_explanation'] = train['prior_question_had_explanation'].astype('int8')\n",
    "# now prior_question_elapsed_time will be in seconds\n",
    "train['prior_question_elapsed_time'] = train['prior_question_elapsed_time'] / 1e3\n",
    "print('prior_question_elapsed_time min value: {} max value {}\\n'.format(\n",
    "                train['prior_question_elapsed_time'].min(),\n",
    "                train['prior_question_elapsed_time'].max()))\n",
    "train['prior_question_elapsed_time'] = train['prior_question_elapsed_time'].astype('int16')\n",
    "train.info(memory_usage=200, null_counts=True)"
   ]
  },
  {
   "cell_type": "code",
   "execution_count": 305,
   "metadata": {},
   "outputs": [],
   "source": [
    "def calc_percents(dlen, flen):\n",
    "    return 100 * flen / dlen\n",
    "\n",
    "dlen = train_df.shape[0]"
   ]
  },
  {
   "cell_type": "markdown",
   "metadata": {},
   "source": [
    "## timestamp\n",
    "\n",
    "the time in milliseconds between this user interaction and the first event completion from that user"
   ]
  },
  {
   "cell_type": "code",
   "execution_count": 369,
   "metadata": {},
   "outputs": [
    {
     "name": "stdout",
     "output_type": "stream",
     "text": [
      "Timestamp max 687.1days min 15.3s mode 27714.0s\n",
      "Zero timestamp (or interaction = event, or garbage) amount 0, in percents: 0.00%\n",
      "Timestamps which are more than 1 hour amount 1137, in percents: 1.1%\n",
      "Timestamps which are more than 1 day amount 1065, in percents: 1.1%\n",
      "Timestamps with correct answers: max 687 days, min 0 days, median 46 days\n",
      "Timestamps with wrong answers: max 685 days, min 0 days, median 35 days\n"
     ]
    }
   ],
   "source": [
    "timestamp_secs = train['timestamp']/1e3\n",
    "print('Timestamp max {:.1f}days min {:.1f}s mode {:.1f}s'.format(timestamp_secs.max()/(3600 * 24),\n",
    "                                                                    timestamp_secs.min(),\n",
    "                                                                    timestamp_secs.mode()[0]))\n",
    "zero_ts_len = len(timestamp_secs[timestamp_secs == 0])\n",
    "hour_ts_len = len(timestamp_secs[timestamp_secs > 3600])\n",
    "day_ts_len = len(timestamp_secs[timestamp_secs > 3600 * 24])\n",
    "print('Zero timestamp (or interaction = event, or garbage) amount {}, in percents: {:.2f}%'.format(zero_ts_len, calc_percents(dlen, zero_ts_len)))\n",
    "print('Timestamps which are more than 1 hour amount {}, in percents: {:.1f}%'.format(hour_ts_len, calc_percents(dlen, hour_ts_len)))\n",
    "print('Timestamps which are more than 1 day amount {}, in percents: {:.1f}%'.format(day_ts_len, calc_percents(dlen, day_ts_len)))\n",
    "correct_ansewers = timestamp_secs[train['answered_correctly'] == 1]\n",
    "wrong_ansewers = timestamp_secs[train['answered_correctly'] == 0]\n",
    "print('Timestamps with correct answers: max {:.0f} days, min {:.0f} days, median {:.0f} days'.format(correct_ansewers.max()/(24*3600),\n",
    "                                                                                 correct_ansewers.min()/(24*3600),\n",
    "                                                                                 int(correct_ansewers.median()/(24*3600))))\n",
    "print('Timestamps with wrong answers: max {:.0f} days, min {:.0f} days, median {:.0f} days'.format(wrong_ansewers.max()/(24*3600),\n",
    "                                                                                 wrong_ansewers.min()/(24*3600),\n",
    "                                                                                 int(wrong_ansewers.median()/(24*3600))))"
   ]
  },
  {
   "cell_type": "markdown",
   "metadata": {},
   "source": [
    "## user_id\n",
    "\n",
    "ID code for the user"
   ]
  },
  {
   "cell_type": "code",
   "execution_count": 307,
   "metadata": {},
   "outputs": [
    {
     "name": "stdout",
     "output_type": "stream",
     "text": [
      "Amount of unquie users 178, percents of df length 0.2%\n"
     ]
    }
   ],
   "source": [
    "user_id_unique = len(train['user_id'].unique())\n",
    "print('Amount of unquie users {}, percents of df length {:.1f}%'.format(user_id_unique, calc_percents(dlen, user_id_unique)))"
   ]
  },
  {
   "cell_type": "markdown",
   "metadata": {},
   "source": [
    "## content_id\n",
    "\n",
    "ID code for the user interaction"
   ]
  },
  {
   "cell_type": "code",
   "execution_count": 308,
   "metadata": {},
   "outputs": [
    {
     "name": "stdout",
     "output_type": "stream",
     "text": [
      "Amount of unquie content ids 135, percents of df length 0.14%\n"
     ]
    }
   ],
   "source": [
    "content_id_len = len(train['content_id'].unique())\n",
    "print('Amount of unquie content ids {}, percents of df length {:.2f}%'.format(content_id_len, calc_percents(dlen, content_id_len)))"
   ]
  },
  {
   "cell_type": "markdown",
   "metadata": {},
   "source": [
    "## task_container_id\n",
    "\n",
    "Id code for the batch of questions or lectures. For example, a user might see three questions in a row before seeing the explanations for any of them. Those three would all share a task_container_id.\n",
    "\n",
    "Questions topics (themes)?"
   ]
  },
  {
   "cell_type": "code",
   "execution_count": 309,
   "metadata": {},
   "outputs": [
    {
     "name": "stdout",
     "output_type": "stream",
     "text": [
      "Amount of unquie task containers ids 822, percents of df length 0.82%\n"
     ]
    }
   ],
   "source": [
    "task_container_id_len = len(train['task_container_id'].unique())\n",
    "print('Amount of unquie task containers ids {}, percents of df length {:.2f}%'.format(\n",
    "    task_container_id_len,\n",
    "    calc_percents(dlen, task_container_id_len)))"
   ]
  },
  {
   "cell_type": "markdown",
   "metadata": {},
   "source": [
    "## content_type_id\n",
    "\n",
    "0 if the event was a question being posed to the user, 1 if the event was the user watching a lecture"
   ]
  },
  {
   "cell_type": "code",
   "execution_count": 310,
   "metadata": {},
   "outputs": [
    {
     "data": {
      "text/plain": [
       "0    1.0\n",
       "Name: content_type_id, dtype: float64"
      ]
     },
     "execution_count": 310,
     "metadata": {},
     "output_type": "execute_result"
    }
   ],
   "source": [
    "train['content_type_id'].value_counts(normalize=True)"
   ]
  },
  {
   "cell_type": "markdown",
   "metadata": {},
   "source": [
    "all content is questions, so this data is not usefull"
   ]
  },
  {
   "cell_type": "code",
   "execution_count": 311,
   "metadata": {},
   "outputs": [
    {
     "data": {
      "text/html": [
       "<div>\n",
       "<style scoped>\n",
       "    .dataframe tbody tr th:only-of-type {\n",
       "        vertical-align: middle;\n",
       "    }\n",
       "\n",
       "    .dataframe tbody tr th {\n",
       "        vertical-align: top;\n",
       "    }\n",
       "\n",
       "    .dataframe thead th {\n",
       "        text-align: right;\n",
       "    }\n",
       "</style>\n",
       "<table border=\"1\" class=\"dataframe\">\n",
       "  <thead>\n",
       "    <tr style=\"text-align: right;\">\n",
       "      <th></th>\n",
       "      <th>timestamp</th>\n",
       "      <th>user_id</th>\n",
       "      <th>content_id</th>\n",
       "      <th>task_container_id</th>\n",
       "      <th>user_answer</th>\n",
       "      <th>answered_correctly</th>\n",
       "      <th>prior_question_elapsed_time</th>\n",
       "      <th>prior_question_had_explanation</th>\n",
       "      <th>question_id</th>\n",
       "      <th>bundle_id</th>\n",
       "      <th>correct_answer</th>\n",
       "      <th>part_question</th>\n",
       "      <th>tags</th>\n",
       "      <th>lecture_id</th>\n",
       "      <th>tag</th>\n",
       "      <th>part_lecture</th>\n",
       "      <th>type_of</th>\n",
       "    </tr>\n",
       "  </thead>\n",
       "  <tbody>\n",
       "    <tr>\n",
       "      <th>18</th>\n",
       "      <td>437272</td>\n",
       "      <td>115</td>\n",
       "      <td>7926</td>\n",
       "      <td>18</td>\n",
       "      <td>1</td>\n",
       "      <td>1</td>\n",
       "      <td>18</td>\n",
       "      <td>0</td>\n",
       "      <td>7926.0</td>\n",
       "      <td>7926.0</td>\n",
       "      <td>1.0</td>\n",
       "      <td>1.0</td>\n",
       "      <td>9 10 92</td>\n",
       "      <td>7926.0</td>\n",
       "      <td>57.0</td>\n",
       "      <td>5.0</td>\n",
       "      <td>concept</td>\n",
       "    </tr>\n",
       "    <tr>\n",
       "      <th>23</th>\n",
       "      <td>557677</td>\n",
       "      <td>115</td>\n",
       "      <td>185</td>\n",
       "      <td>23</td>\n",
       "      <td>3</td>\n",
       "      <td>0</td>\n",
       "      <td>21</td>\n",
       "      <td>0</td>\n",
       "      <td>185.0</td>\n",
       "      <td>185.0</td>\n",
       "      <td>0.0</td>\n",
       "      <td>1.0</td>\n",
       "      <td>131 111 81</td>\n",
       "      <td>185.0</td>\n",
       "      <td>45.0</td>\n",
       "      <td>6.0</td>\n",
       "      <td>concept</td>\n",
       "    </tr>\n",
       "    <tr>\n",
       "      <th>30</th>\n",
       "      <td>710402</td>\n",
       "      <td>115</td>\n",
       "      <td>100</td>\n",
       "      <td>30</td>\n",
       "      <td>0</td>\n",
       "      <td>1</td>\n",
       "      <td>20</td>\n",
       "      <td>0</td>\n",
       "      <td>100.0</td>\n",
       "      <td>100.0</td>\n",
       "      <td>0.0</td>\n",
       "      <td>1.0</td>\n",
       "      <td>131 5 81</td>\n",
       "      <td>100.0</td>\n",
       "      <td>70.0</td>\n",
       "      <td>1.0</td>\n",
       "      <td>concept</td>\n",
       "    </tr>\n",
       "    <tr>\n",
       "      <th>95</th>\n",
       "      <td>835457</td>\n",
       "      <td>2746</td>\n",
       "      <td>484</td>\n",
       "      <td>19</td>\n",
       "      <td>0</td>\n",
       "      <td>1</td>\n",
       "      <td>20</td>\n",
       "      <td>1</td>\n",
       "      <td>484.0</td>\n",
       "      <td>484.0</td>\n",
       "      <td>0.0</td>\n",
       "      <td>2.0</td>\n",
       "      <td>62 155 163 81 29</td>\n",
       "      <td>484.0</td>\n",
       "      <td>179.0</td>\n",
       "      <td>5.0</td>\n",
       "      <td>concept</td>\n",
       "    </tr>\n",
       "    <tr>\n",
       "      <th>112</th>\n",
       "      <td>5355233</td>\n",
       "      <td>5382</td>\n",
       "      <td>185</td>\n",
       "      <td>16</td>\n",
       "      <td>0</td>\n",
       "      <td>1</td>\n",
       "      <td>34</td>\n",
       "      <td>1</td>\n",
       "      <td>185.0</td>\n",
       "      <td>185.0</td>\n",
       "      <td>0.0</td>\n",
       "      <td>1.0</td>\n",
       "      <td>131 111 81</td>\n",
       "      <td>185.0</td>\n",
       "      <td>45.0</td>\n",
       "      <td>6.0</td>\n",
       "      <td>concept</td>\n",
       "    </tr>\n",
       "  </tbody>\n",
       "</table>\n",
       "</div>"
      ],
      "text/plain": [
       "     timestamp  user_id  content_id  task_container_id  user_answer  \\\n",
       "18      437272      115        7926                 18            1   \n",
       "23      557677      115         185                 23            3   \n",
       "30      710402      115         100                 30            0   \n",
       "95      835457     2746         484                 19            0   \n",
       "112    5355233     5382         185                 16            0   \n",
       "\n",
       "     answered_correctly  prior_question_elapsed_time  \\\n",
       "18                    1                           18   \n",
       "23                    0                           21   \n",
       "30                    1                           20   \n",
       "95                    1                           20   \n",
       "112                   1                           34   \n",
       "\n",
       "     prior_question_had_explanation  question_id  bundle_id  correct_answer  \\\n",
       "18                                0       7926.0     7926.0             1.0   \n",
       "23                                0        185.0      185.0             0.0   \n",
       "30                                0        100.0      100.0             0.0   \n",
       "95                                1        484.0      484.0             0.0   \n",
       "112                               1        185.0      185.0             0.0   \n",
       "\n",
       "     part_question              tags  lecture_id    tag  part_lecture  type_of  \n",
       "18             1.0           9 10 92      7926.0   57.0           5.0  concept  \n",
       "23             1.0        131 111 81       185.0   45.0           6.0  concept  \n",
       "30             1.0          131 5 81       100.0   70.0           1.0  concept  \n",
       "95             2.0  62 155 163 81 29       484.0  179.0           5.0  concept  \n",
       "112            1.0        131 111 81       185.0   45.0           6.0  concept  "
      ]
     },
     "execution_count": 311,
     "metadata": {},
     "output_type": "execute_result"
    }
   ],
   "source": [
    "train.drop(['content_type_id'], axis=1, inplace=True)\n",
    "train.head()"
   ]
  },
  {
   "cell_type": "markdown",
   "metadata": {},
   "source": [
    "## user_answer\n",
    "\n",
    "the user's answer to the question, if any. Read -1 as null, for lectures."
   ]
  },
  {
   "cell_type": "code",
   "execution_count": 312,
   "metadata": {},
   "outputs": [
    {
     "name": "stdout",
     "output_type": "stream",
     "text": [
      "0    429\n",
      "1    347\n",
      "3    284\n",
      "2    184\n",
      "Name: user_answer, dtype: int64\n"
     ]
    }
   ],
   "source": [
    "print(train['user_answer'].value_counts())\n",
    "train['user_answer'] = train['user_answer'].astype(np.uint8)"
   ]
  },
  {
   "cell_type": "markdown",
   "metadata": {},
   "source": [
    "## answered_correctly\n",
    "\n",
    "if the user responded correctly. Read -1 as null, for lectures"
   ]
  },
  {
   "cell_type": "code",
   "execution_count": 313,
   "metadata": {},
   "outputs": [
    {
     "name": "stdout",
     "output_type": "stream",
     "text": [
      "1    870\n",
      "0    374\n",
      "Name: answered_correctly, dtype: int64\n"
     ]
    }
   ],
   "source": [
    "print(train['answered_correctly'].value_counts())\n",
    "train['answered_correctly'] = train['answered_correctly'].astype(np.uint8)"
   ]
  },
  {
   "cell_type": "markdown",
   "metadata": {},
   "source": [
    "## prior_question_had_explanation\n",
    "\n",
    "Whether or not the user saw an explanation and the correct response(s) after answering the previous question bundle, ignoring any lectures in between. The value is shared across a single question bundle, and is null for a user's first question bundle or lecture. Typically the first several questions a user sees were part of an onboarding diagnostic test where they did not get any feedback"
   ]
  },
  {
   "cell_type": "code",
   "execution_count": 355,
   "metadata": {},
   "outputs": [
    {
     "name": "stdout",
     "output_type": "stream",
     "text": [
      "Value counts for prior_question_had_explanation\n",
      "1    1182\n",
      "0      62\n",
      "Name: prior_question_had_explanation, dtype: int64\n",
      "\n",
      "Correct answers distrubition for question had explanation:\n",
      "1    834\n",
      "0     36\n",
      "Name: prior_question_had_explanation, dtype: int64\n",
      "Wrong answers distrubition for question had explanation:\n",
      "1    348\n",
      "0     26\n",
      "Name: prior_question_had_explanation, dtype: int64\n"
     ]
    }
   ],
   "source": [
    "print('Value counts for prior_question_had_explanation\\n{}\\n'.format(train['prior_question_had_explanation'].value_counts()))\n",
    "train['prior_question_had_explanation'] = train['prior_question_had_explanation'].astype(np.uint8)\n",
    "correct_ansewers = train['prior_question_had_explanation'][train['answered_correctly'] == 1]\n",
    "wrong_ansewers = train['prior_question_had_explanation'][train['answered_correctly'] == 0]\n",
    "print('Correct answers distrubition for question had explanation:\\n{}'.format(correct_ansewers.value_counts()))\n",
    "print('Wrong answers distrubition for question had explanation:\\n{}'.format(wrong_ansewers.value_counts()))"
   ]
  },
  {
   "cell_type": "markdown",
   "metadata": {},
   "source": [
    "## prior_question_elapsed_time\n",
    "\n",
    " The average time in milliseconds it took a user to answer each question in the previous question bundle, ignoring any lectures in between. Is null for a user's first question bundle or lecture. Note that the time is the average time a user took to solve each question in the previous bundle"
   ]
  },
  {
   "cell_type": "code",
   "execution_count": 348,
   "metadata": {},
   "outputs": [
    {
     "name": "stdout",
     "output_type": "stream",
     "text": [
      "Elapsed time min: 0 max: 272 mode: 17\n",
      "Median elapsed time 20.0s max elapsed time 272s min elapsed time 2s for correct answers\n",
      "Median elapsed time 22.0s max elapsed time 252s min elapsed time 0s for wrong answers\n"
     ]
    }
   ],
   "source": [
    "print('Elapsed time min: {} max: {} mode: {}'.format(train['prior_question_elapsed_time'].min(),\n",
    "                                                  train['prior_question_elapsed_time'].max(),\n",
    "                                                  train['prior_question_elapsed_time'].mode()[0]))\n",
    "# train['prior_question_elapsed_time'].value_counts()\n",
    "train['prior_question_elapsed_time'] = train['prior_question_elapsed_time'].astype(np.uint16)\n",
    "ac_and_et = train['prior_question_elapsed_time'][train['answered_correctly'] == 1]\n",
    "print('Median elapsed time {}s max elapsed time {}s min elapsed time {}s for correct answers'.format(\n",
    "    ac_and_et.median(), ac_and_et.max(), ac_and_et.min()))\n",
    "\n",
    "aw_and_et = train['prior_question_elapsed_time'][train['answered_correctly'] == 0]\n",
    "print('Median elapsed time {}s max elapsed time {}s min elapsed time {}s for wrong answers'.format(\n",
    "    aw_and_et.median(), aw_and_et.max(), aw_and_et.min()))"
   ]
  },
  {
   "cell_type": "markdown",
   "metadata": {},
   "source": [
    "## question_id\n",
    "\n",
    "foreign key for the train/test content_id column, when the content type is question (0)."
   ]
  },
  {
   "cell_type": "code",
   "execution_count": 316,
   "metadata": {},
   "outputs": [
    {
     "name": "stdout",
     "output_type": "stream",
     "text": [
      "18     7926.0\n",
      "23      185.0\n",
      "30      100.0\n",
      "95      484.0\n",
      "112     185.0\n",
      "Name: question_id, dtype: float64\n",
      "Question id min: 89.0 max: 13487.0\n"
     ]
    }
   ],
   "source": [
    "print(train['question_id'].head())\n",
    "print('Question id min: {} max: {}'.format(train['question_id'].min(),\n",
    "                                                     train['question_id'].max()))\n",
    "train['question_id'] = train['question_id'].astype(np.uint32)"
   ]
  },
  {
   "cell_type": "markdown",
   "metadata": {},
   "source": [
    "## bundle_id\n",
    "\n",
    "code for which questions are served together"
   ]
  },
  {
   "cell_type": "code",
   "execution_count": 343,
   "metadata": {},
   "outputs": [
    {
     "name": "stdout",
     "output_type": "stream",
     "text": [
      "10688    125\n",
      "335       47\n",
      "3852      46\n",
      "185       38\n",
      "5266      30\n",
      "Name: bundle_id, dtype: int64\n",
      "\n",
      "Correct answers value counts for differnt bundle id:\n",
      "10688    94\n",
      "335      35\n",
      "3852     29\n",
      "4118     20\n",
      "185      20\n",
      "6797     18\n",
      "5266     17\n",
      "761      16\n",
      "7926     16\n",
      "7920     16\n",
      "Name: bundle_id, dtype: int64\n"
     ]
    }
   ],
   "source": [
    "print(train['bundle_id'].value_counts().head())\n",
    "train['bundle_id'] = train['bundle_id'].astype(np.uint32)\n",
    "print('\\nCorrect answers value counts for differnt bundle id:\\n{}'.format(\n",
    "    train['bundle_id'][train['answered_correctly'] == 1].value_counts().nlargest(10)))"
   ]
  },
  {
   "cell_type": "markdown",
   "metadata": {},
   "source": [
    "## correct_answer\n",
    "\n",
    "the answer to the question. Can be compared with the train user_answer column to check if the user was right."
   ]
  },
  {
   "cell_type": "code",
   "execution_count": 318,
   "metadata": {},
   "outputs": [
    {
     "name": "stdout",
     "output_type": "stream",
     "text": [
      "0.0    461\n",
      "1.0    339\n",
      "3.0    297\n",
      "2.0    147\n",
      "Name: correct_answer, dtype: int64\n"
     ]
    }
   ],
   "source": [
    "print(train['correct_answer'].value_counts())\n",
    "train['correct_answer'] =  train['correct_answer'].astype(np.uint8)"
   ]
  },
  {
   "attachments": {},
   "cell_type": "markdown",
   "metadata": {},
   "source": [
    "## part_question\n",
    "\n",
    "the relevant section of the TOEIC test.\n",
    "\n",
    "https://www.iibc-global.org/english/toeic/test/lr/about/format.html"
   ]
  },
  {
   "cell_type": "code",
   "execution_count": 340,
   "metadata": {},
   "outputs": [
    {
     "name": "stdout",
     "output_type": "stream",
     "text": [
      "Value counts of question part:\n",
      "5    436\n",
      "2    296\n",
      "6    189\n",
      "1    142\n",
      "3     93\n",
      "4     54\n",
      "7     34\n",
      "Name: part_question, dtype: int64\n",
      "\n",
      "Value counts of correct answer for different question part:\n",
      "5    286\n",
      "2    228\n",
      "6    122\n",
      "1    100\n",
      "3     64\n",
      "4     43\n",
      "7     27\n",
      "Name: part_question, dtype: int64\n"
     ]
    }
   ],
   "source": [
    "print('Value counts of question part:\\n{}\\n'.format(train['part_question'].value_counts()))\n",
    "train['part_question'] = train['part_question'].astype(np.uint8)\n",
    "print('Value counts of correct answer for different question part:\\n{}'.format(\n",
    "    train['part_question'][train['answered_correctly'] == 1].value_counts()))"
   ]
  },
  {
   "attachments": {},
   "cell_type": "markdown",
   "metadata": {},
   "source": [
    "## tags\n",
    "\n",
    "one or more detailed tag codes for the question. The meaning of the tags will not be provided, but these codes are sufficient for clustering the questions together."
   ]
  },
  {
   "cell_type": "code",
   "execution_count": 320,
   "metadata": {},
   "outputs": [
    {
     "data": {
      "text/plain": [
       "18              9 10 92\n",
       "23           131 111 81\n",
       "30             131 5 81\n",
       "95     62 155 163 81 29\n",
       "112          131 111 81\n",
       "Name: tags, dtype: object"
      ]
     },
     "execution_count": 320,
     "metadata": {},
     "output_type": "execute_result"
    }
   ],
   "source": [
    "train['tags'].head()"
   ]
  },
  {
   "cell_type": "code",
   "execution_count": 321,
   "metadata": {},
   "outputs": [
    {
     "data": {
      "text/html": [
       "<div>\n",
       "<style scoped>\n",
       "    .dataframe tbody tr th:only-of-type {\n",
       "        vertical-align: middle;\n",
       "    }\n",
       "\n",
       "    .dataframe tbody tr th {\n",
       "        vertical-align: top;\n",
       "    }\n",
       "\n",
       "    .dataframe thead th {\n",
       "        text-align: right;\n",
       "    }\n",
       "</style>\n",
       "<table border=\"1\" class=\"dataframe\">\n",
       "  <thead>\n",
       "    <tr style=\"text-align: right;\">\n",
       "      <th></th>\n",
       "      <th>tag_1</th>\n",
       "      <th>tag_10</th>\n",
       "      <th>tag_100</th>\n",
       "      <th>tag_101</th>\n",
       "      <th>tag_102</th>\n",
       "      <th>tag_104</th>\n",
       "      <th>tag_106</th>\n",
       "      <th>tag_107</th>\n",
       "      <th>tag_109</th>\n",
       "      <th>tag_111</th>\n",
       "      <th>...</th>\n",
       "      <th>tag_84</th>\n",
       "      <th>tag_88</th>\n",
       "      <th>tag_89</th>\n",
       "      <th>tag_9</th>\n",
       "      <th>tag_90</th>\n",
       "      <th>tag_91</th>\n",
       "      <th>tag_92</th>\n",
       "      <th>tag_96</th>\n",
       "      <th>tag_97</th>\n",
       "      <th>tag_98</th>\n",
       "    </tr>\n",
       "  </thead>\n",
       "  <tbody>\n",
       "    <tr>\n",
       "      <th>18</th>\n",
       "      <td>0</td>\n",
       "      <td>1</td>\n",
       "      <td>0</td>\n",
       "      <td>0</td>\n",
       "      <td>0</td>\n",
       "      <td>0</td>\n",
       "      <td>0</td>\n",
       "      <td>0</td>\n",
       "      <td>0</td>\n",
       "      <td>0</td>\n",
       "      <td>...</td>\n",
       "      <td>0</td>\n",
       "      <td>0</td>\n",
       "      <td>0</td>\n",
       "      <td>1</td>\n",
       "      <td>0</td>\n",
       "      <td>0</td>\n",
       "      <td>1</td>\n",
       "      <td>0</td>\n",
       "      <td>0</td>\n",
       "      <td>0</td>\n",
       "    </tr>\n",
       "    <tr>\n",
       "      <th>23</th>\n",
       "      <td>0</td>\n",
       "      <td>0</td>\n",
       "      <td>0</td>\n",
       "      <td>0</td>\n",
       "      <td>0</td>\n",
       "      <td>0</td>\n",
       "      <td>0</td>\n",
       "      <td>0</td>\n",
       "      <td>0</td>\n",
       "      <td>1</td>\n",
       "      <td>...</td>\n",
       "      <td>0</td>\n",
       "      <td>0</td>\n",
       "      <td>0</td>\n",
       "      <td>0</td>\n",
       "      <td>0</td>\n",
       "      <td>0</td>\n",
       "      <td>0</td>\n",
       "      <td>0</td>\n",
       "      <td>0</td>\n",
       "      <td>0</td>\n",
       "    </tr>\n",
       "    <tr>\n",
       "      <th>30</th>\n",
       "      <td>0</td>\n",
       "      <td>0</td>\n",
       "      <td>0</td>\n",
       "      <td>0</td>\n",
       "      <td>0</td>\n",
       "      <td>0</td>\n",
       "      <td>0</td>\n",
       "      <td>0</td>\n",
       "      <td>0</td>\n",
       "      <td>0</td>\n",
       "      <td>...</td>\n",
       "      <td>0</td>\n",
       "      <td>0</td>\n",
       "      <td>0</td>\n",
       "      <td>0</td>\n",
       "      <td>0</td>\n",
       "      <td>0</td>\n",
       "      <td>0</td>\n",
       "      <td>0</td>\n",
       "      <td>0</td>\n",
       "      <td>0</td>\n",
       "    </tr>\n",
       "    <tr>\n",
       "      <th>95</th>\n",
       "      <td>0</td>\n",
       "      <td>0</td>\n",
       "      <td>0</td>\n",
       "      <td>0</td>\n",
       "      <td>0</td>\n",
       "      <td>0</td>\n",
       "      <td>0</td>\n",
       "      <td>0</td>\n",
       "      <td>0</td>\n",
       "      <td>0</td>\n",
       "      <td>...</td>\n",
       "      <td>0</td>\n",
       "      <td>0</td>\n",
       "      <td>0</td>\n",
       "      <td>0</td>\n",
       "      <td>0</td>\n",
       "      <td>0</td>\n",
       "      <td>0</td>\n",
       "      <td>0</td>\n",
       "      <td>0</td>\n",
       "      <td>0</td>\n",
       "    </tr>\n",
       "    <tr>\n",
       "      <th>112</th>\n",
       "      <td>0</td>\n",
       "      <td>0</td>\n",
       "      <td>0</td>\n",
       "      <td>0</td>\n",
       "      <td>0</td>\n",
       "      <td>0</td>\n",
       "      <td>0</td>\n",
       "      <td>0</td>\n",
       "      <td>0</td>\n",
       "      <td>1</td>\n",
       "      <td>...</td>\n",
       "      <td>0</td>\n",
       "      <td>0</td>\n",
       "      <td>0</td>\n",
       "      <td>0</td>\n",
       "      <td>0</td>\n",
       "      <td>0</td>\n",
       "      <td>0</td>\n",
       "      <td>0</td>\n",
       "      <td>0</td>\n",
       "      <td>0</td>\n",
       "    </tr>\n",
       "  </tbody>\n",
       "</table>\n",
       "<p>5 rows × 89 columns</p>\n",
       "</div>"
      ],
      "text/plain": [
       "     tag_1  tag_10  tag_100  tag_101  tag_102  tag_104  tag_106  tag_107  \\\n",
       "18       0       1        0        0        0        0        0        0   \n",
       "23       0       0        0        0        0        0        0        0   \n",
       "30       0       0        0        0        0        0        0        0   \n",
       "95       0       0        0        0        0        0        0        0   \n",
       "112      0       0        0        0        0        0        0        0   \n",
       "\n",
       "     tag_109  tag_111  ...  tag_84  tag_88  tag_89  tag_9  tag_90  tag_91  \\\n",
       "18         0        0  ...       0       0       0      1       0       0   \n",
       "23         0        1  ...       0       0       0      0       0       0   \n",
       "30         0        0  ...       0       0       0      0       0       0   \n",
       "95         0        0  ...       0       0       0      0       0       0   \n",
       "112        0        1  ...       0       0       0      0       0       0   \n",
       "\n",
       "     tag_92  tag_96  tag_97  tag_98  \n",
       "18        1       0       0       0  \n",
       "23        0       0       0       0  \n",
       "30        0       0       0       0  \n",
       "95        0       0       0       0  \n",
       "112       0       0       0       0  \n",
       "\n",
       "[5 rows x 89 columns]"
      ]
     },
     "execution_count": 321,
     "metadata": {},
     "output_type": "execute_result"
    }
   ],
   "source": [
    "from collections import defaultdict\n",
    "def transform_tags(tags_series):\n",
    "    # tags_dict = defaultdict(list)\n",
    "    possible_keys = []\n",
    "    for i, data in train['tags'].items():\n",
    "        data = data.split()\n",
    "        possible_keys.extend(data)\n",
    "    keys_set = sorted(set(possible_keys), key = int)\n",
    "    tags = []\n",
    "    # print(keys_set)\n",
    "    for i, data in train['tags'].items():\n",
    "        data = data.split()\n",
    "        data_set = set(data)\n",
    "        tags_dict = {key:0  for key in keys_set}\n",
    "        for key in data_set:\n",
    "            tags_dict[key] = 1\n",
    "        tags.append(tags_dict)\n",
    "        # break\n",
    "    tags = pd.DataFrame(data=tags, index=tags_series.index, dtype=np.int8)\n",
    "    renaming_cols = {key: 'tag_' + key for key in keys_set}\n",
    "    tags = tags.rename(columns=renaming_cols)\n",
    "    return tags\n",
    "tags_ = transform_tags(train['tags'])\n",
    "tags_.head()"
   ]
  },
  {
   "cell_type": "code",
   "execution_count": 322,
   "metadata": {},
   "outputs": [],
   "source": [
    "train = pd.merge(train, tags_, left_index=True, right_index=True, how = 'left')"
   ]
  },
  {
   "attachments": {},
   "cell_type": "markdown",
   "metadata": {},
   "source": [
    "## lecture_id\n",
    "foreign key for the train/test content_id column, when the content type is lecture (1)."
   ]
  },
  {
   "cell_type": "code",
   "execution_count": 336,
   "metadata": {},
   "outputs": [
    {
     "name": "stdout",
     "output_type": "stream",
     "text": [
      "Lecture id boundaries max: 13487 min 89\n"
     ]
    },
    {
     "data": {
      "text/plain": [
       "10688    94\n",
       "335      35\n",
       "3852     29\n",
       "4118     20\n",
       "185      20\n",
       "6797     18\n",
       "5266     17\n",
       "7920     16\n",
       "7926     16\n",
       "761      16\n",
       "Name: lecture_id, dtype: int64"
      ]
     },
     "execution_count": 336,
     "metadata": {},
     "output_type": "execute_result"
    }
   ],
   "source": [
    "print('Lecture id boundaries max: {} min {}'.format(train['lecture_id'].max(),\n",
    "                train['lecture_id'].min()))\n",
    "train['lecture_id'] = train['lecture_id'].astype(np.uint32)\n",
    "train['lecture_id'][train['answered_correctly'] == 1].value_counts().nlargest(10)"
   ]
  },
  {
   "cell_type": "markdown",
   "metadata": {},
   "source": [
    "## type_of\n",
    "\n",
    "brief description of the core purpose of the lecture"
   ]
  },
  {
   "cell_type": "code",
   "execution_count": 324,
   "metadata": {},
   "outputs": [
    {
     "name": "stdout",
     "output_type": "stream",
     "text": [
      "18     concept\n",
      "23     concept\n",
      "30     concept\n",
      "95     concept\n",
      "112    concept\n",
      "Name: type_of, dtype: object\n"
     ]
    }
   ],
   "source": [
    "print(train['type_of'].head())"
   ]
  },
  {
   "cell_type": "code",
   "execution_count": 334,
   "metadata": {},
   "outputs": [
    {
     "data": {
      "text/plain": [
       "concept             528\n",
       "solving question    307\n",
       "intention            34\n",
       "starter               1\n",
       "Name: type_of, dtype: int64"
      ]
     },
     "execution_count": 334,
     "metadata": {},
     "output_type": "execute_result"
    }
   ],
   "source": [
    "train['type_of'] = pd.Categorical(train['type_of'])\n",
    "train['type_of'].head()\n",
    "train['type_of'][train['answered_correctly'] == 1].value_counts()"
   ]
  },
  {
   "attachments": {},
   "cell_type": "markdown",
   "metadata": {},
   "source": [
    "## part_lecture\n",
    "\n",
    "top level category code for the lecture.\n",
    "\n",
    "https://www.iibc-global.org/english/toeic/test/lr/about/format.html"
   ]
  },
  {
   "cell_type": "code",
   "execution_count": 326,
   "metadata": {},
   "outputs": [],
   "source": [
    "train['part_lecture'] = train['part_lecture'].astype(np.uint8)"
   ]
  },
  {
   "cell_type": "markdown",
   "metadata": {},
   "source": [
    "## tag\n",
    "\n",
    "one tag codes for the lecture. The meaning of the tags will not be provided, but these codes are sufficient for clustering the lectures together"
   ]
  },
  {
   "cell_type": "code",
   "execution_count": 332,
   "metadata": {},
   "outputs": [
    {
     "name": "stdout",
     "output_type": "stream",
     "text": [
      "Tag max value 182 \n"
     ]
    },
    {
     "data": {
      "text/plain": [
       "39     94\n",
       "114    35\n",
       "161    29\n",
       "93     27\n",
       "101    26\n",
       "8      20\n",
       "45     20\n",
       "1      19\n",
       "70     18\n",
       "123    18\n",
       "Name: tag, dtype: int64"
      ]
     },
     "execution_count": 332,
     "metadata": {},
     "output_type": "execute_result"
    }
   ],
   "source": [
    "print('Tag max value {} '.format(train['tag'].max()))\n",
    "train['tag'] = train['tag'].astype(np.uint8)\n",
    "train['tag'][train['answered_correctly'] == 1].value_counts().nlargest(10)"
   ]
  },
  {
   "attachments": {},
   "cell_type": "markdown",
   "metadata": {},
   "source": [
    "## Features analysis result"
   ]
  },
  {
   "cell_type": "code",
   "execution_count": 328,
   "metadata": {},
   "outputs": [
    {
     "name": "stdout",
     "output_type": "stream",
     "text": [
      "<class 'pandas.core.frame.DataFrame'>\n",
      "Int64Index: 1244 entries, 18 to 99888\n",
      "Data columns (total 106 columns):\n",
      "timestamp                         1244 non-null int64\n",
      "user_id                           1244 non-null int32\n",
      "content_id                        1244 non-null int16\n",
      "task_container_id                 1244 non-null int16\n",
      "user_answer                       1244 non-null uint8\n",
      "answered_correctly                1244 non-null uint8\n",
      "prior_question_elapsed_time       1244 non-null uint16\n",
      "prior_question_had_explanation    1244 non-null uint8\n",
      "question_id                       1244 non-null uint32\n",
      "bundle_id                         1244 non-null uint32\n",
      "correct_answer                    1244 non-null uint8\n",
      "part_question                     1244 non-null uint8\n",
      "tags                              1244 non-null object\n",
      "lecture_id                        1244 non-null uint32\n",
      "tag                               1244 non-null uint8\n",
      "part_lecture                      1244 non-null uint8\n",
      "type_of                           1244 non-null category\n",
      "tag_1                             1244 non-null int8\n",
      "tag_10                            1244 non-null int8\n",
      "tag_100                           1244 non-null int8\n",
      "tag_101                           1244 non-null int8\n",
      "tag_102                           1244 non-null int8\n",
      "tag_104                           1244 non-null int8\n",
      "tag_106                           1244 non-null int8\n",
      "tag_107                           1244 non-null int8\n",
      "tag_109                           1244 non-null int8\n",
      "tag_111                           1244 non-null int8\n",
      "tag_114                           1244 non-null int8\n",
      "tag_116                           1244 non-null int8\n",
      "tag_118                           1244 non-null int8\n",
      "tag_119                           1244 non-null int8\n",
      "tag_12                            1244 non-null int8\n",
      "tag_122                           1244 non-null int8\n",
      "tag_123                           1244 non-null int8\n",
      "tag_131                           1244 non-null int8\n",
      "tag_134                           1244 non-null int8\n",
      "tag_135                           1244 non-null int8\n",
      "tag_136                           1244 non-null int8\n",
      "tag_137                           1244 non-null int8\n",
      "tag_138                           1244 non-null int8\n",
      "tag_141                           1244 non-null int8\n",
      "tag_142                           1244 non-null int8\n",
      "tag_143                           1244 non-null int8\n",
      "tag_144                           1244 non-null int8\n",
      "tag_147                           1244 non-null int8\n",
      "tag_149                           1244 non-null int8\n",
      "tag_155                           1244 non-null int8\n",
      "tag_159                           1244 non-null int8\n",
      "tag_16                            1244 non-null int8\n",
      "tag_162                           1244 non-null int8\n",
      "tag_163                           1244 non-null int8\n",
      "tag_167                           1244 non-null int8\n",
      "tag_171                           1244 non-null int8\n",
      "tag_173                           1244 non-null int8\n",
      "tag_174                           1244 non-null int8\n",
      "tag_179                           1244 non-null int8\n",
      "tag_18                            1244 non-null int8\n",
      "tag_180                           1244 non-null int8\n",
      "tag_181                           1244 non-null int8\n",
      "tag_184                           1244 non-null int8\n",
      "tag_185                           1244 non-null int8\n",
      "tag_187                           1244 non-null int8\n",
      "tag_19                            1244 non-null int8\n",
      "tag_2                             1244 non-null int8\n",
      "tag_21                            1244 non-null int8\n",
      "tag_22                            1244 non-null int8\n",
      "tag_27                            1244 non-null int8\n",
      "tag_28                            1244 non-null int8\n",
      "tag_29                            1244 non-null int8\n",
      "tag_3                             1244 non-null int8\n",
      "tag_30                            1244 non-null int8\n",
      "tag_35                            1244 non-null int8\n",
      "tag_36                            1244 non-null int8\n",
      "tag_38                            1244 non-null int8\n",
      "tag_41                            1244 non-null int8\n",
      "tag_44                            1244 non-null int8\n",
      "tag_48                            1244 non-null int8\n",
      "tag_49                            1244 non-null int8\n",
      "tag_5                             1244 non-null int8\n",
      "tag_50                            1244 non-null int8\n",
      "tag_52                            1244 non-null int8\n",
      "tag_53                            1244 non-null int8\n",
      "tag_55                            1244 non-null int8\n",
      "tag_60                            1244 non-null int8\n",
      "tag_62                            1244 non-null int8\n",
      "tag_64                            1244 non-null int8\n",
      "tag_67                            1244 non-null int8\n",
      "tag_72                            1244 non-null int8\n",
      "tag_73                            1244 non-null int8\n",
      "tag_74                            1244 non-null int8\n",
      "tag_78                            1244 non-null int8\n",
      "tag_79                            1244 non-null int8\n",
      "tag_8                             1244 non-null int8\n",
      "tag_80                            1244 non-null int8\n",
      "tag_81                            1244 non-null int8\n",
      "tag_82                            1244 non-null int8\n",
      "tag_84                            1244 non-null int8\n",
      "tag_88                            1244 non-null int8\n",
      "tag_89                            1244 non-null int8\n",
      "tag_9                             1244 non-null int8\n",
      "tag_90                            1244 non-null int8\n",
      "tag_91                            1244 non-null int8\n",
      "tag_92                            1244 non-null int8\n",
      "tag_96                            1244 non-null int8\n",
      "tag_97                            1244 non-null int8\n",
      "tag_98                            1244 non-null int8\n",
      "dtypes: category(1), int16(2), int32(1), int64(1), int8(89), object(1), uint16(1), uint32(3), uint8(7)\n",
      "memory usage: 213.9+ KB\n"
     ]
    }
   ],
   "source": [
    "train.info(max_cols=150)"
   ]
  }
 ],
 "metadata": {
  "kernelspec": {
   "display_name": "Python 2.7.12 64-bit",
   "language": "python",
   "name": "python3"
  },
  "language_info": {
   "codemirror_mode": {
    "name": "ipython",
    "version": 2
   },
   "file_extension": ".py",
   "mimetype": "text/x-python",
   "name": "python",
   "nbconvert_exporter": "python",
   "pygments_lexer": "ipython2",
   "version": "2.7.12"
  },
  "orig_nbformat": 4,
  "vscode": {
   "interpreter": {
    "hash": "767d51c1340bd893661ea55ea3124f6de3c7a262a8b4abca0554b478b1e2ff90"
   }
  }
 },
 "nbformat": 4,
 "nbformat_minor": 2
}
