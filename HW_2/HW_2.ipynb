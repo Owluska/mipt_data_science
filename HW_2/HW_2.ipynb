{
 "cells": [
  {
   "cell_type": "code",
   "execution_count": 4,
   "metadata": {},
   "outputs": [],
   "source": [
    "import pandas as pd"
   ]
  },
  {
   "cell_type": "code",
   "execution_count": 41,
   "metadata": {},
   "outputs": [],
   "source": [
    "train_data = pd.read_csv('/home/ksu/Desktop/magistr/homework/HW_2/data/train.csv', chunksize=50e3)"
   ]
  },
  {
   "cell_type": "code",
   "execution_count": 42,
   "metadata": {},
   "outputs": [],
   "source": [
    "train_gen = (chunk for chunk in train_data)\n",
    "train_dfs = []\n",
    "for i, df in enumerate(train_gen):\n",
    "    if i > 10:\n",
    "        break\n",
    "    train_dfs.append(df)\n",
    "    \n",
    "train_df = pd.concat(train_dfs)"
   ]
  },
  {
   "cell_type": "code",
   "execution_count": 43,
   "metadata": {},
   "outputs": [
    {
     "name": "stdout",
     "output_type": "stream",
     "text": [
      "<class 'pandas.core.frame.DataFrame'>\n",
      "RangeIndex: 550000 entries, 0 to 549999\n",
      "Data columns (total 10 columns):\n",
      "row_id                            550000 non-null int64\n",
      "timestamp                         550000 non-null int64\n",
      "user_id                           550000 non-null int64\n",
      "content_id                        550000 non-null int64\n",
      "content_type_id                   550000 non-null int64\n",
      "task_container_id                 550000 non-null int64\n",
      "user_answer                       550000 non-null int64\n",
      "answered_correctly                550000 non-null int64\n",
      "prior_question_elapsed_time       537212 non-null float64\n",
      "prior_question_had_explanation    547956 non-null object\n",
      "dtypes: float64(1), int64(8), object(1)\n",
      "memory usage: 42.0+ MB\n"
     ]
    }
   ],
   "source": [
    "train_df.info()"
   ]
  },
  {
   "cell_type": "code",
   "execution_count": 45,
   "metadata": {},
   "outputs": [
    {
     "name": "stdout",
     "output_type": "stream",
     "text": [
      "<class 'pandas.core.frame.DataFrame'>\n",
      "RangeIndex: 418 entries, 0 to 417\n",
      "Data columns (total 4 columns):\n",
      "lecture_id    418 non-null int64\n",
      "tag           418 non-null int64\n",
      "part          418 non-null int64\n",
      "type_of       418 non-null object\n",
      "dtypes: int64(3), object(1)\n",
      "memory usage: 13.1+ KB\n"
     ]
    }
   ],
   "source": [
    "lectures_df = pd.read_csv('/home/ksu/Desktop/magistr/homework/HW_2/data/lectures.csv')\n",
    "lectures_df.info()"
   ]
  },
  {
   "cell_type": "code",
   "execution_count": 44,
   "metadata": {},
   "outputs": [
    {
     "name": "stdout",
     "output_type": "stream",
     "text": [
      "<class 'pandas.core.frame.DataFrame'>\n",
      "RangeIndex: 13523 entries, 0 to 13522\n",
      "Data columns (total 5 columns):\n",
      "question_id       13523 non-null int64\n",
      "bundle_id         13523 non-null int64\n",
      "correct_answer    13523 non-null int64\n",
      "part              13523 non-null int64\n",
      "tags              13522 non-null object\n",
      "dtypes: int64(4), object(1)\n",
      "memory usage: 528.3+ KB\n"
     ]
    }
   ],
   "source": [
    "questions_df = pd.read_csv('/home/ksu/Desktop/magistr/homework/HW_2/data/questions.csv')\n",
    "questions_df.info()"
   ]
  }
 ],
 "metadata": {
  "kernelspec": {
   "display_name": "Python 2.7.12 64-bit",
   "language": "python",
   "name": "python3"
  },
  "language_info": {
   "codemirror_mode": {
    "name": "ipython",
    "version": 2
   },
   "file_extension": ".py",
   "mimetype": "text/x-python",
   "name": "python",
   "nbconvert_exporter": "python",
   "pygments_lexer": "ipython2",
   "version": "2.7.12"
  },
  "orig_nbformat": 4,
  "vscode": {
   "interpreter": {
    "hash": "767d51c1340bd893661ea55ea3124f6de3c7a262a8b4abca0554b478b1e2ff90"
   }
  }
 },
 "nbformat": 4,
 "nbformat_minor": 2
}
