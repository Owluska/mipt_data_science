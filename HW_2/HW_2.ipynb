{
 "cells": [
  {
   "cell_type": "code",
   "execution_count": 31,
   "metadata": {},
   "outputs": [],
   "source": [
    "from __future__ import division\n",
    "import pandas as pd\n",
    "import dask.dataframe as dd"
   ]
  },
  {
   "cell_type": "markdown",
   "metadata": {},
   "source": [
    "# Loading\n",
    "\n",
    "Загрузка `train_df` без признака `row_id` - дублирует индекс"
   ]
  },
  {
   "cell_type": "code",
   "execution_count": 3,
   "metadata": {},
   "outputs": [],
   "source": [
    "dtypes = {\n",
    "            'timestamp': 'int64',\n",
    "            'user_id': 'int32',\n",
    "            'content_id': 'int16',\n",
    "            'content_type_id': 'int8',\n",
    "            'task_container_id': 'int16',\n",
    "            'user_answer': 'int8',\n",
    "            'answered_correctly':'int8',\n",
    "            'prior_question_elapsed_time': 'float32',\n",
    "            'prior_question_had_explanation': 'object'\n",
    "            }\n",
    "train_path = '/home/ksu/Desktop/magistr/homework/HW_2/data/train.csv'\n",
    "train_df = pd.read_csv(train_path, usecols=[1,2,3,4,5,6,7,8,9], dtype=dtypes)"
   ]
  },
  {
   "cell_type": "markdown",
   "metadata": {},
   "source": [
    "## Чистка данных\n",
    "- убираются пустые ячейки (строка 1)\n",
    "- признак `prior_question_had_explanation` преобразуется в `int8` (строки 2 - 6)\n",
    "- признак `prior_question_elapsed_time` преобразуется в секунды. Так как после этого данные укладываются в 2 байта\n",
    "признак преобразуется в `int16`"
   ]
  },
  {
   "cell_type": "code",
   "execution_count": 4,
   "metadata": {},
   "outputs": [
    {
     "name": "stdout",
     "output_type": "stream",
     "text": [
      "prior_question_elapsed_time min value: 0.0 max value 300.0\n",
      "\n",
      "<class 'pandas.core.frame.DataFrame'>\n",
      "Int64Index: 98878794 entries, 1 to 101230331\n",
      "Data columns (total 9 columns):\n",
      "timestamp                         98878794 non-null int64\n",
      "user_id                           98878794 non-null int32\n",
      "content_id                        98878794 non-null int16\n",
      "content_type_id                   98878794 non-null int8\n",
      "task_container_id                 98878794 non-null int16\n",
      "user_answer                       98878794 non-null int8\n",
      "answered_correctly                98878794 non-null int8\n",
      "prior_question_elapsed_time       98878794 non-null int16\n",
      "prior_question_had_explanation    98878794 non-null int8\n",
      "dtypes: int16(3), int32(1), int64(1), int8(4)\n",
      "memory usage: 2.8 GB\n"
     ]
    }
   ],
   "source": [
    "train_df.dropna(inplace=True)\n",
    "train_df['prior_question_had_explanation'] = (\n",
    "    train_df['prior_question_had_explanation'].\n",
    "    apply(lambda has_explanation: 1 if has_explanation == 'True' else 0)\n",
    ")\n",
    "train_df['prior_question_had_explanation'] = train_df['prior_question_had_explanation'].astype('int8')\n",
    "# now prior_question_elapsed_time will be in seconds\n",
    "train_df['prior_question_elapsed_time'] = train_df['prior_question_elapsed_time'] / 1e3\n",
    "print('prior_question_elapsed_time min value: {} max value {}\\n'.format(\n",
    "                train_df['prior_question_elapsed_time'].min(),\n",
    "                train_df['prior_question_elapsed_time'].max()))\n",
    "train_df['prior_question_elapsed_time'] = train_df['prior_question_elapsed_time'].astype('int16')\n",
    "train_df.info(memory_usage=200, null_counts=True)"
   ]
  },
  {
   "cell_type": "markdown",
   "metadata": {},
   "source": [
    "## Timestamp\n",
    "\n",
    "the time in milliseconds between this user interaction and the first event completion from that user"
   ]
  },
  {
   "cell_type": "code",
   "execution_count": 24,
   "metadata": {},
   "outputs": [
    {
     "name": "stdout",
     "output_type": "stream",
     "text": [
      "Timestamp max 1011.9days min 0.0s mean 89.5days\n",
      "Zero timestamp (interaction = event?) amount 3896\n",
      "Timestamps which are more than 1 hour amount 90069811\n",
      "Timestamps which are  more than 1 day amount 86039183\n"
     ]
    }
   ],
   "source": [
    "timestamp_secs = train_df['timestamp']/1e3\n",
    "print('Timestamp max {:.1f}days min {:.1f}s mean {:.1f}days'.format(timestamp_secs.max()/(3600 * 24),\n",
    "                                                           timestamp_secs.min(),\n",
    "                                                           timestamp_secs.mean()/((3600 * 24))))\n",
    "print('Zero timestamp (interaction = event?) amount {}'.format(len(timestamp_secs[timestamp_secs == 0])))\n",
    "print('Timestamps which are more than 1 hour amount {}'.format(len(timestamp_secs[timestamp_secs > 3600])))\n",
    "print('Timestamps which are  more than 1 day amount {}'.format(len(timestamp_secs[timestamp_secs > 3600 * 24])))"
   ]
  },
  {
   "cell_type": "markdown",
   "metadata": {},
   "source": [
    "## user_id\n",
    "\n",
    "ID code for the user"
   ]
  },
  {
   "cell_type": "code",
   "execution_count": 32,
   "metadata": {},
   "outputs": [
    {
     "name": "stdout",
     "output_type": "stream",
     "text": [
      "Amount of unquie users 393569, percents of df length 0.4%\n"
     ]
    }
   ],
   "source": [
    "user_id_unique = len(train_df['user_id'].unique())\n",
    "user_id_len = len(train_df['user_id'])\n",
    "print('Amount of unquie users {}, percents of df length {:.1f}%'.format(user_id_unique, 100 * user_id_unique/user_id_len))"
   ]
  },
  {
   "cell_type": "code",
   "execution_count": 55,
   "metadata": {},
   "outputs": [
    {
     "name": "stdout",
     "output_type": "stream",
     "text": [
      "<class 'pandas.core.frame.DataFrame'>\n",
      "RangeIndex: 418 entries, 0 to 417\n",
      "Data columns (total 4 columns):\n",
      "lecture_id    418 non-null int64\n",
      "tag           418 non-null int64\n",
      "part          418 non-null int64\n",
      "type_of       418 non-null object\n",
      "dtypes: int64(3), object(1)\n",
      "memory usage: 13.1+ KB\n"
     ]
    }
   ],
   "source": [
    "lectures_df = pd.read_csv('/home/ksu/Desktop/magistr/homework/HW_2/data/lectures.csv')\n",
    "lectures_df.info()"
   ]
  },
  {
   "cell_type": "code",
   "execution_count": 56,
   "metadata": {},
   "outputs": [
    {
     "name": "stdout",
     "output_type": "stream",
     "text": [
      "<class 'pandas.core.frame.DataFrame'>\n",
      "RangeIndex: 13523 entries, 0 to 13522\n",
      "Data columns (total 5 columns):\n",
      "question_id       13523 non-null int64\n",
      "bundle_id         13523 non-null int64\n",
      "correct_answer    13523 non-null int64\n",
      "part              13523 non-null int64\n",
      "tags              13522 non-null object\n",
      "dtypes: int64(4), object(1)\n",
      "memory usage: 528.3+ KB\n"
     ]
    }
   ],
   "source": [
    "questions_df = pd.read_csv('/home/ksu/Desktop/magistr/homework/HW_2/data/questions.csv')\n",
    "questions_df.info()"
   ]
  },
  {
   "cell_type": "markdown",
   "metadata": {},
   "source": [
    "## Questions"
   ]
  },
  {
   "cell_type": "code",
   "execution_count": 59,
   "metadata": {},
   "outputs": [
    {
     "data": {
      "text/plain": [
       "8                        738\n",
       "73                       617\n",
       "53                       523\n",
       "1                        413\n",
       "96                       373\n",
       "55                       308\n",
       "79                       293\n",
       "27                       261\n",
       "14                       232\n",
       "173                      222\n",
       "109                      204\n",
       "89                       202\n",
       "136 81 92                140\n",
       "91                       125\n",
       "136 38 29                110\n",
       "60                       108\n",
       "116                       99\n",
       "7                         76\n",
       "147                       75\n",
       "72                        72\n",
       "82 81 92                  69\n",
       "136 92 29                 66\n",
       "74 81 92                  65\n",
       "134                       65\n",
       "133                       62\n",
       "166                       60\n",
       "136 38 81                 59\n",
       "37 153 21                 59\n",
       "125                       57\n",
       "179                       56\n",
       "                        ... \n",
       "98 118 160 22 122 162      1\n",
       "106 81 29                  1\n",
       "2 107 62 92 102            1\n",
       "106 169 162 81             1\n",
       "62 155 163 162 92 102      1\n",
       "42 18 35 117 122           1\n",
       "138 41 162 38 29           1\n",
       "82 169 162 92              1\n",
       "38 29                      1\n",
       "143 20 162 81 29           1\n",
       "143 140 6 38 92            1\n",
       "131 101 162 38             1\n",
       "157 67 162 92              1\n",
       "145 50 21                  1\n",
       "113 144 38                 1\n",
       "157 183 162 29             1\n",
       "50 19 21                   1\n",
       "143 62 88 92 29            1\n",
       "69 2 107 162 38 29         1\n",
       "100 148 38 102             1\n",
       "106 150 162 92             1\n",
       "128 162                    1\n",
       "84 118 16 22 122           1\n",
       "136 183 162 92             1\n",
       "84 39 42 135 162           1\n",
       "18 160 16 135              1\n",
       "161 171 162 38             1\n",
       "106 171 162 92             1\n",
       "118 160 35 0 122           1\n",
       "69 148 32 81 92            1\n",
       "Name: tags, Length: 1519, dtype: int64"
      ]
     },
     "execution_count": 59,
     "metadata": {},
     "output_type": "execute_result"
    }
   ],
   "source": [
    "questions_df['tags'].value_counts()"
   ]
  },
  {
   "cell_type": "markdown",
   "metadata": {},
   "source": [
    "Эталонные ответы"
   ]
  },
  {
   "cell_type": "code",
   "execution_count": 61,
   "metadata": {},
   "outputs": [
    {
     "data": {
      "text/plain": [
       "0    3716\n",
       "3    3544\n",
       "1    3478\n",
       "2    2785\n",
       "Name: correct_answer, dtype: int64"
      ]
     },
     "execution_count": 61,
     "metadata": {},
     "output_type": "execute_result"
    }
   ],
   "source": [
    "questions_df['correct_answer'].value_counts()"
   ]
  },
  {
   "cell_type": "code",
   "execution_count": 63,
   "metadata": {},
   "outputs": [
    {
     "data": {
      "text/plain": [
       "5    5511\n",
       "2    1647\n",
       "3    1562\n",
       "4    1439\n",
       "6    1212\n",
       "7    1160\n",
       "1     992\n",
       "Name: part, dtype: int64"
      ]
     },
     "execution_count": 63,
     "metadata": {},
     "output_type": "execute_result"
    }
   ],
   "source": [
    "questions_df['part'].value_counts()"
   ]
  },
  {
   "cell_type": "markdown",
   "metadata": {},
   "source": [
    "usefull columns is ['correct_answer', 'tag', 'part']"
   ]
  },
  {
   "cell_type": "markdown",
   "metadata": {},
   "source": [
    "## Lectures"
   ]
  },
  {
   "cell_type": "markdown",
   "metadata": {},
   "source": [
    "maybe 'starter' and 'intention' are garbage?"
   ]
  },
  {
   "cell_type": "code",
   "execution_count": 65,
   "metadata": {},
   "outputs": [
    {
     "data": {
      "text/plain": [
       "concept             222\n",
       "solving question    186\n",
       "intention             7\n",
       "starter               3\n",
       "Name: type_of, dtype: int64"
      ]
     },
     "execution_count": 65,
     "metadata": {},
     "output_type": "execute_result"
    }
   ],
   "source": [
    "lectures_df['type_of'].value_counts()"
   ]
  },
  {
   "cell_type": "markdown",
   "metadata": {},
   "source": [
    "find out what is 1..7"
   ]
  },
  {
   "cell_type": "code",
   "execution_count": 67,
   "metadata": {},
   "outputs": [
    {
     "data": {
      "text/plain": [
       "5    143\n",
       "6     83\n",
       "2     56\n",
       "1     54\n",
       "7     32\n",
       "4     31\n",
       "3     19\n",
       "Name: part, dtype: int64"
      ]
     },
     "execution_count": 67,
     "metadata": {},
     "output_type": "execute_result"
    }
   ],
   "source": [
    "lectures_df['part'].value_counts()"
   ]
  },
  {
   "cell_type": "code",
   "execution_count": 68,
   "metadata": {},
   "outputs": [
    {
     "data": {
      "text/plain": [
       "136    7\n",
       "116    6\n",
       "134    6\n",
       "27     6\n",
       "161    6\n",
       "62     6\n",
       "74     6\n",
       "113    6\n",
       "114    5\n",
       "70     5\n",
       "94     5\n",
       "82     5\n",
       "119    5\n",
       "173    5\n",
       "1      4\n",
       "26     4\n",
       "36     4\n",
       "156    4\n",
       "53     4\n",
       "109    4\n",
       "101    4\n",
       "149    4\n",
       "48     4\n",
       "151    4\n",
       "152    4\n",
       "4      4\n",
       "157    4\n",
       "73     4\n",
       "14     4\n",
       "159    4\n",
       "      ..\n",
       "175    2\n",
       "172    2\n",
       "12     1\n",
       "169    1\n",
       "2      1\n",
       "158    1\n",
       "15     1\n",
       "183    1\n",
       "155    1\n",
       "17     1\n",
       "150    1\n",
       "171    1\n",
       "67     1\n",
       "138    1\n",
       "148    1\n",
       "144    1\n",
       "143    1\n",
       "139    1\n",
       "31     1\n",
       "137    1\n",
       "39     1\n",
       "126    1\n",
       "120    1\n",
       "112    1\n",
       "103    1\n",
       "99     1\n",
       "57     1\n",
       "90     1\n",
       "83     1\n",
       "187    1\n",
       "Name: tag, Length: 151, dtype: int64"
      ]
     },
     "execution_count": 68,
     "metadata": {},
     "output_type": "execute_result"
    }
   ],
   "source": [
    "lectures_df['tag'].value_counts()"
   ]
  },
  {
   "cell_type": "markdown",
   "metadata": {},
   "source": [
    "## Answers"
   ]
  },
  {
   "cell_type": "code",
   "execution_count": 69,
   "metadata": {},
   "outputs": [
    {
     "data": {
      "text/html": [
       "<div>\n",
       "<style scoped>\n",
       "    .dataframe tbody tr th:only-of-type {\n",
       "        vertical-align: middle;\n",
       "    }\n",
       "\n",
       "    .dataframe tbody tr th {\n",
       "        vertical-align: top;\n",
       "    }\n",
       "\n",
       "    .dataframe thead th {\n",
       "        text-align: right;\n",
       "    }\n",
       "</style>\n",
       "<table border=\"1\" class=\"dataframe\">\n",
       "  <thead>\n",
       "    <tr style=\"text-align: right;\">\n",
       "      <th></th>\n",
       "      <th>row_id</th>\n",
       "      <th>timestamp</th>\n",
       "      <th>user_id</th>\n",
       "      <th>content_id</th>\n",
       "      <th>content_type_id</th>\n",
       "      <th>task_container_id</th>\n",
       "      <th>user_answer</th>\n",
       "      <th>answered_correctly</th>\n",
       "      <th>prior_question_elapsed_time</th>\n",
       "      <th>prior_question_had_explanation</th>\n",
       "    </tr>\n",
       "  </thead>\n",
       "  <tbody>\n",
       "    <tr>\n",
       "      <th>0</th>\n",
       "      <td>0</td>\n",
       "      <td>0</td>\n",
       "      <td>115</td>\n",
       "      <td>5692</td>\n",
       "      <td>0</td>\n",
       "      <td>1</td>\n",
       "      <td>3</td>\n",
       "      <td>1</td>\n",
       "      <td>NaN</td>\n",
       "      <td>NaN</td>\n",
       "    </tr>\n",
       "    <tr>\n",
       "      <th>1</th>\n",
       "      <td>1</td>\n",
       "      <td>56943</td>\n",
       "      <td>115</td>\n",
       "      <td>5716</td>\n",
       "      <td>0</td>\n",
       "      <td>2</td>\n",
       "      <td>2</td>\n",
       "      <td>1</td>\n",
       "      <td>37000.0</td>\n",
       "      <td>False</td>\n",
       "    </tr>\n",
       "    <tr>\n",
       "      <th>2</th>\n",
       "      <td>2</td>\n",
       "      <td>118363</td>\n",
       "      <td>115</td>\n",
       "      <td>128</td>\n",
       "      <td>0</td>\n",
       "      <td>0</td>\n",
       "      <td>0</td>\n",
       "      <td>1</td>\n",
       "      <td>55000.0</td>\n",
       "      <td>False</td>\n",
       "    </tr>\n",
       "    <tr>\n",
       "      <th>3</th>\n",
       "      <td>3</td>\n",
       "      <td>131167</td>\n",
       "      <td>115</td>\n",
       "      <td>7860</td>\n",
       "      <td>0</td>\n",
       "      <td>3</td>\n",
       "      <td>0</td>\n",
       "      <td>1</td>\n",
       "      <td>19000.0</td>\n",
       "      <td>False</td>\n",
       "    </tr>\n",
       "    <tr>\n",
       "      <th>4</th>\n",
       "      <td>4</td>\n",
       "      <td>137965</td>\n",
       "      <td>115</td>\n",
       "      <td>7922</td>\n",
       "      <td>0</td>\n",
       "      <td>4</td>\n",
       "      <td>1</td>\n",
       "      <td>1</td>\n",
       "      <td>11000.0</td>\n",
       "      <td>False</td>\n",
       "    </tr>\n",
       "  </tbody>\n",
       "</table>\n",
       "</div>"
      ],
      "text/plain": [
       "   row_id  timestamp  user_id  content_id  content_type_id  task_container_id  \\\n",
       "0       0          0      115        5692                0                  1   \n",
       "1       1      56943      115        5716                0                  2   \n",
       "2       2     118363      115         128                0                  0   \n",
       "3       3     131167      115        7860                0                  3   \n",
       "4       4     137965      115        7922                0                  4   \n",
       "\n",
       "   user_answer  answered_correctly  prior_question_elapsed_time  \\\n",
       "0            3                   1                          NaN   \n",
       "1            2                   1                      37000.0   \n",
       "2            0                   1                      55000.0   \n",
       "3            0                   1                      19000.0   \n",
       "4            1                   1                      11000.0   \n",
       "\n",
       "  prior_question_had_explanation  \n",
       "0                            NaN  \n",
       "1                          False  \n",
       "2                          False  \n",
       "3                          False  \n",
       "4                          False  "
      ]
     },
     "execution_count": 69,
     "metadata": {},
     "output_type": "execute_result"
    }
   ],
   "source": [
    "train_df.head()"
   ]
  },
  {
   "cell_type": "markdown",
   "metadata": {},
   "source": [
    "### find out what year is it and how to make transform correctly"
   ]
  },
  {
   "cell_type": "code",
   "execution_count": 71,
   "metadata": {},
   "outputs": [
    {
     "data": {
      "text/plain": [
       "0   1970-01-01 00:00:00.000000000\n",
       "1   1970-01-01 00:00:00.000056943\n",
       "2   1970-01-01 00:00:00.000118363\n",
       "3   1970-01-01 00:00:00.000131167\n",
       "4   1970-01-01 00:00:00.000137965\n",
       "Name: timestamp, dtype: datetime64[ns]"
      ]
     },
     "execution_count": 71,
     "metadata": {},
     "output_type": "execute_result"
    }
   ],
   "source": [
    "pd.to_datetime(train_df['timestamp']).head()"
   ]
  },
  {
   "cell_type": "code",
   "execution_count": 72,
   "metadata": {},
   "outputs": [
    {
     "data": {
      "text/plain": [
       "6116     1064\n",
       "6173     1031\n",
       "4120     1011\n",
       "175      1001\n",
       "7876      984\n",
       "7900      931\n",
       "2063      892\n",
       "2064      892\n",
       "2065      892\n",
       "3363      881\n",
       "3365      881\n",
       "3364      881\n",
       "4492      877\n",
       "1278      874\n",
       "4696      861\n",
       "6370      860\n",
       "2948      847\n",
       "2947      847\n",
       "2946      847\n",
       "2595      820\n",
       "2594      820\n",
       "2593      820\n",
       "7218      817\n",
       "7216      817\n",
       "7219      817\n",
       "7217      817\n",
       "10688     767\n",
       "10686     747\n",
       "294       745\n",
       "10685     729\n",
       "         ... \n",
       "9713        1\n",
       "12980       1\n",
       "1708        1\n",
       "1707        1\n",
       "310         1\n",
       "1706        1\n",
       "11195       1\n",
       "12279       1\n",
       "13240       1\n",
       "12592       1\n",
       "12837       1\n",
       "12728       1\n",
       "11643       1\n",
       "13149       1\n",
       "674         1\n",
       "12964       1\n",
       "12836       1\n",
       "12962       1\n",
       "1332        1\n",
       "12963       1\n",
       "12960       1\n",
       "12278       1\n",
       "13177       1\n",
       "12961       1\n",
       "5480        1\n",
       "11574       1\n",
       "11642       1\n",
       "12838       1\n",
       "13164       1\n",
       "12750       1\n",
       "Name: content_id, Length: 13129, dtype: int64"
      ]
     },
     "execution_count": 72,
     "metadata": {},
     "output_type": "execute_result"
    }
   ],
   "source": [
    "train_df['content_id'].value_counts()"
   ]
  },
  {
   "cell_type": "code",
   "execution_count": 73,
   "metadata": {},
   "outputs": [
    {
     "data": {
      "text/plain": [
       "True     491583\n",
       "False     56373\n",
       "Name: prior_question_had_explanation, dtype: int64"
      ]
     },
     "execution_count": 73,
     "metadata": {},
     "output_type": "execute_result"
    }
   ],
   "source": [
    "train_df['prior_question_had_explanation'].value_counts()"
   ]
  },
  {
   "cell_type": "code",
   "execution_count": 76,
   "metadata": {},
   "outputs": [
    {
     "data": {
      "text/plain": [
       "300.0"
      ]
     },
     "execution_count": 76,
     "metadata": {},
     "output_type": "execute_result"
    }
   ],
   "source": [
    "(train_df['prior_question_elapsed_time']/1e3).max()"
   ]
  },
  {
   "cell_type": "code",
   "execution_count": 77,
   "metadata": {},
   "outputs": [
    {
     "data": {
      "text/plain": [
       "0.0"
      ]
     },
     "execution_count": 77,
     "metadata": {},
     "output_type": "execute_result"
    }
   ],
   "source": [
    "(train_df['prior_question_elapsed_time']/1e3).min()"
   ]
  },
  {
   "cell_type": "code",
   "execution_count": 78,
   "metadata": {},
   "outputs": [
    {
     "data": {
      "text/plain": [
       "0    17.0\n",
       "dtype: float64"
      ]
     },
     "execution_count": 78,
     "metadata": {},
     "output_type": "execute_result"
    }
   ],
   "source": [
    "(train_df['prior_question_elapsed_time']/1e3).mode()"
   ]
  }
 ],
 "metadata": {
  "kernelspec": {
   "display_name": "Python 2.7.12 64-bit",
   "language": "python",
   "name": "python3"
  },
  "language_info": {
   "codemirror_mode": {
    "name": "ipython",
    "version": 2
   },
   "file_extension": ".py",
   "mimetype": "text/x-python",
   "name": "python",
   "nbconvert_exporter": "python",
   "pygments_lexer": "ipython2",
   "version": "2.7.12"
  },
  "orig_nbformat": 4,
  "vscode": {
   "interpreter": {
    "hash": "767d51c1340bd893661ea55ea3124f6de3c7a262a8b4abca0554b478b1e2ff90"
   }
  }
 },
 "nbformat": 4,
 "nbformat_minor": 2
}
