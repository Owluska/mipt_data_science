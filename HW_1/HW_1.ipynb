{
  "nbformat": 4,
  "nbformat_minor": 0,
  "metadata": {
    "colab": {
      "provenance": [],
      "collapsed_sections": []
    },
    "kernelspec": {
      "name": "python3",
      "display_name": "Python 3"
    },
    "language_info": {
      "name": "python"
    }
  },
  "cells": [
    {
      "cell_type": "markdown",
      "source": [
        "# Library instalation"
      ],
      "metadata": {
        "id": "An1mm-KzwOV0"
      }
    },
    {
      "cell_type": "code",
      "source": [
        "!pip install -q -U kaggle_environments"
      ],
      "metadata": {
        "id": "Krm0vmfHjaXz",
        "colab": {
          "base_uri": "https://localhost:8080/"
        },
        "outputId": "997edcf9-9da0-481d-962b-18083c9e9907"
      },
      "execution_count": 1,
      "outputs": [
        {
          "output_type": "stream",
          "name": "stdout",
          "text": [
            "\u001b[K     |████████████████████████████████| 1.9 MB 4.2 MB/s \n",
            "\u001b[K     |████████████████████████████████| 62 kB 1.4 MB/s \n",
            "\u001b[?25h"
          ]
        }
      ]
    },
    {
      "cell_type": "markdown",
      "source": [
        "# Imports"
      ],
      "metadata": {
        "id": "JJdUMer8wYNf"
      }
    },
    {
      "cell_type": "code",
      "execution_count": 83,
      "metadata": {
        "id": "D9J8ZCBxi8N1"
      },
      "outputs": [],
      "source": [
        "import random\n",
        "import numpy as np\n",
        "import pandas as pd\n",
        "import matplotlib.pyplot as plt\n",
        "import seaborn as sns\n",
        "from kaggle_environments import make, evaluate, utils"
      ]
    },
    {
      "cell_type": "markdown",
      "source": [
        "# Creating user agents"
      ],
      "metadata": {
        "id": "wyUaSX9OwcC-"
      }
    },
    {
      "cell_type": "markdown",
      "source": [
        "## 1\n",
        "\n",
        "This agent always returns rock"
      ],
      "metadata": {
        "id": "JFWJafbZ4ps9"
      }
    },
    {
      "cell_type": "code",
      "source": [
        "%%writefile rock.py\n",
        "ROCK = 0\n",
        "PAPER = 1\n",
        "SCISSORS = 2\n",
        "def rock(observation, configuration):\n",
        "  return ROCK"
      ],
      "metadata": {
        "id": "itbqFCJ2mrxq",
        "colab": {
          "base_uri": "https://localhost:8080/"
        },
        "outputId": "7d009302-2dd4-407b-926b-22860ffb7d32"
      },
      "execution_count": 3,
      "outputs": [
        {
          "output_type": "stream",
          "name": "stdout",
          "text": [
            "Writing rock.py\n"
          ]
        }
      ]
    },
    {
      "cell_type": "markdown",
      "source": [
        "## 2\n",
        "\n",
        "This agent always returns paper"
      ],
      "metadata": {
        "id": "U00IQjGg4uIj"
      }
    },
    {
      "cell_type": "code",
      "source": [
        "%%writefile paper.py\n",
        "ROCK = 0\n",
        "PAPER = 1\n",
        "SCISSORS = 2\n",
        "def paper(observation, configuration):\n",
        "  return PAPER"
      ],
      "metadata": {
        "colab": {
          "base_uri": "https://localhost:8080/"
        },
        "id": "6XGd0k5Zvkyb",
        "outputId": "a19917f4-8600-453f-865e-1ad601436c0f"
      },
      "execution_count": 4,
      "outputs": [
        {
          "output_type": "stream",
          "name": "stdout",
          "text": [
            "Writing paper.py\n"
          ]
        }
      ]
    },
    {
      "cell_type": "markdown",
      "source": [
        "## 3\n",
        "\n",
        "This agent always returns scissors"
      ],
      "metadata": {
        "id": "AUJLXZNc4xkF"
      }
    },
    {
      "cell_type": "code",
      "source": [
        "%%writefile scissors.py\n",
        "ROCK = 0\n",
        "PAPER = 1\n",
        "SCISSORS = 2\n",
        "def scissors(observation, configuration):\n",
        "  return SCISSORS"
      ],
      "metadata": {
        "colab": {
          "base_uri": "https://localhost:8080/"
        },
        "id": "2F5uKs6Svo1-",
        "outputId": "fdb9e8d5-19ed-4cd4-ceb0-54512f59144a"
      },
      "execution_count": 5,
      "outputs": [
        {
          "output_type": "stream",
          "name": "stdout",
          "text": [
            "Writing scissors.py\n"
          ]
        }
      ]
    },
    {
      "cell_type": "markdown",
      "source": [
        "## 4\n",
        "\n",
        "This agent returns random value from ROCK-value to SCISSORS-value"
      ],
      "metadata": {
        "id": "VMOjYzTP40v-"
      }
    },
    {
      "cell_type": "code",
      "source": [
        "%%writefile random_agent.py\n",
        "import random\n",
        "ROCK = 0\n",
        "PAPER = 1\n",
        "SCISSORS = 2\n",
        "def random_agent(observation, configuration):\n",
        "  return random.randint(0, 2)"
      ],
      "metadata": {
        "colab": {
          "base_uri": "https://localhost:8080/"
        },
        "id": "_WJclGwG0V6y",
        "outputId": "e8a07d77-d0b6-43c1-baf4-a0e151d2cb1d"
      },
      "execution_count": 84,
      "outputs": [
        {
          "output_type": "stream",
          "name": "stdout",
          "text": [
            "Overwriting random_agent.py\n"
          ]
        }
      ]
    },
    {
      "cell_type": "markdown",
      "source": [
        "## 5\n",
        "\n",
        "This agent sequently chages return value from ROCK to SCISSORS starting from ROCK"
      ],
      "metadata": {
        "id": "gfCi5pbL44Ww"
      }
    },
    {
      "cell_type": "code",
      "source": [
        "%%writefile roll_rps.py\n",
        "roll_agent_last_step = 0\n",
        "def roll_rps(observation, configuration):\n",
        "  global roll_agent_last_step\n",
        "  roll_agent_last_step += 1\n",
        "  roll_agent_last_step = roll_agent_last_step % 3\n",
        "  return roll_agent_last_step"
      ],
      "metadata": {
        "colab": {
          "base_uri": "https://localhost:8080/"
        },
        "id": "fr2wdmtGzTDd",
        "outputId": "3dcaff81-6c5c-46d3-866a-f9cdd3bba6a3"
      },
      "execution_count": 7,
      "outputs": [
        {
          "output_type": "stream",
          "name": "stdout",
          "text": [
            "Writing roll_rps.py\n"
          ]
        }
      ]
    },
    {
      "cell_type": "markdown",
      "source": [
        "## 6\n",
        "\n",
        "This agent sequently chages return value from ROCK to SCISSORS starting from random integer value"
      ],
      "metadata": {
        "id": "F2_H1yu947BE"
      }
    },
    {
      "cell_type": "code",
      "source": [
        "%%writefile roll_from_random.py\n",
        "import random\n",
        "\n",
        "roll_agent_last_step = random.randint(0, 2)\n",
        "\n",
        "def roll_from_random(observation, configuration):\n",
        "  global roll_agent_last_step\n",
        "  roll_agent_last_step += 1\n",
        "  roll_agent_last_step = roll_agent_last_step % 3\n",
        "  return roll_agent_last_step"
      ],
      "metadata": {
        "colab": {
          "base_uri": "https://localhost:8080/"
        },
        "id": "R8EwzzOw2YhL",
        "outputId": "10309b15-b620-49c4-d68b-3726ed7b7b32"
      },
      "execution_count": 85,
      "outputs": [
        {
          "output_type": "stream",
          "name": "stdout",
          "text": [
            "Overwriting roll_from_random.py\n"
          ]
        }
      ]
    },
    {
      "cell_type": "markdown",
      "source": [
        "## 7\n",
        "\n",
        "This agent copies opponent last action"
      ],
      "metadata": {
        "id": "-zj-EnTm49Zi"
      }
    },
    {
      "cell_type": "code",
      "source": [
        "%%writefile copy_opponent.py\n",
        "import random\n",
        "\n",
        "ROCK = 0\n",
        "PAPER = 1\n",
        "SCISSORS = 2\n",
        "\n",
        "def copy_opponent(observation, configuration):\n",
        "  if observation.step > 0:\n",
        "      return observation.lastOpponentAction\n",
        "  else:\n",
        "      return random.randint(ROCK, SCISSORS)"
      ],
      "metadata": {
        "colab": {
          "base_uri": "https://localhost:8080/"
        },
        "id": "KlePy3lG3wH_",
        "outputId": "4d01eaf3-933a-4328-871c-50d6b3700dfd"
      },
      "execution_count": 9,
      "outputs": [
        {
          "output_type": "stream",
          "name": "stdout",
          "text": [
            "Writing copy_opponent.py\n"
          ]
        }
      ]
    },
    {
      "cell_type": "markdown",
      "source": [
        "## 8\n",
        "\n",
        "This agent returns last opponent action plus one"
      ],
      "metadata": {
        "id": "TCHewCAj5WTG"
      }
    },
    {
      "cell_type": "code",
      "source": [
        "%%writefile reaction_agent.py\n",
        "import random\n",
        "\n",
        "ROCK = 0\n",
        "PAPER = 1\n",
        "SCISSORS = 2\n",
        "\n",
        "def reaction_agent(observation, configuration):\n",
        "  if observation.step > 0:\n",
        "      return observation.lastOpponentAction + 1\n",
        "  else:\n",
        "      return random.randint(ROCK, SCISSORS)"
      ],
      "metadata": {
        "colab": {
          "base_uri": "https://localhost:8080/"
        },
        "id": "S-FoXiDF5X19",
        "outputId": "5c7fc1f9-da0a-4003-c65c-d7a6d3548c66"
      },
      "execution_count": 10,
      "outputs": [
        {
          "output_type": "stream",
          "name": "stdout",
          "text": [
            "Writing reaction_agent.py\n"
          ]
        }
      ]
    },
    {
      "cell_type": "markdown",
      "source": [
        "## 9\n",
        "\n",
        "This agent returns None value"
      ],
      "metadata": {
        "id": "Fv0BDGWW56Rl"
      }
    },
    {
      "cell_type": "code",
      "source": [
        "%%writefile none_agent.py\n",
        "def none_agent(observation, configuration):\n",
        "  return None"
      ],
      "metadata": {
        "colab": {
          "base_uri": "https://localhost:8080/"
        },
        "id": "gyrXumFT59G4",
        "outputId": "924bafb6-8dc1-401f-f71b-e9552245397a"
      },
      "execution_count": 11,
      "outputs": [
        {
          "output_type": "stream",
          "name": "stdout",
          "text": [
            "Writing none_agent.py\n"
          ]
        }
      ]
    },
    {
      "cell_type": "markdown",
      "source": [
        "## 10\n",
        "\n",
        "This agent is trying to find value, who has won the most times. If sucsessful - using it"
      ],
      "metadata": {
        "id": "-7jrIpRz8PxT"
      }
    },
    {
      "cell_type": "code",
      "source": [
        "%%writefile statistical.py\n",
        "import random\n",
        "from kaggle_environments.envs.rps.utils import get_score\n",
        "\n",
        "ROCK = 0\n",
        "PAPER = 1\n",
        "SCISSORS = 2\n",
        "\n",
        "last_statistical_action = None\n",
        "opponents_moves = []\n",
        "\n",
        "def statistical(observation, configuration):\n",
        "  global opponents_moves\n",
        "  global last_statistical_action\n",
        "  if observation.step == 0:\n",
        "    last_statistical_action = random.randint(ROCK, SCISSORS)\n",
        "  elif observation.step > 0:\n",
        "    score = get_score(last_statistical_action,\n",
        "                      observation.lastOpponentAction)\n",
        "    if score == 1:\n",
        "      opponents_moves.append(observation.lastOpponentAction)\n",
        "      results = {i:opponents_moves.count(i)\n",
        "                 for i in range(ROCK, SCISSORS)}\n",
        "      results = sorted(results.items(), key=lambda item: item[1],\n",
        "                        reverse=True)\n",
        "      last_statistical_action = results[0][0]\n",
        "    else:\n",
        "      last_statistical_action = observation.lastOpponentAction + 1\n",
        "  return last_statistical_action"
      ],
      "metadata": {
        "colab": {
          "base_uri": "https://localhost:8080/"
        },
        "id": "H3DbG4GJ8SoE",
        "outputId": "fd8bcedd-fe32-4c4f-fb81-b93535ea5f47"
      },
      "execution_count": 86,
      "outputs": [
        {
          "output_type": "stream",
          "name": "stdout",
          "text": [
            "Overwriting statistical.py\n"
          ]
        }
      ]
    },
    {
      "cell_type": "markdown",
      "source": [
        "## 11\n",
        "\n",
        "This agent takes one of two values: ROCK and SCISSORS randomly"
      ],
      "metadata": {
        "id": "M0gyLEmOCzto"
      }
    },
    {
      "cell_type": "code",
      "source": [
        "%%writefile random_rs.py\n",
        "import random\n",
        "\n",
        "ROCK = 0\n",
        "PAPER = 1\n",
        "SCISSORS = 2\n",
        "\n",
        "def random_rs(observation, configuration):\n",
        "  next_move = random.randint(ROCK, PAPER)\n",
        "  next_move = ROCK if next_move == 0 else SCISSORS\n",
        "  return next_move"
      ],
      "metadata": {
        "colab": {
          "base_uri": "https://localhost:8080/"
        },
        "id": "OvWfhdlxC8Kg",
        "outputId": "f9161f40-e390-47d8-8c07-c1a2aa92a4f3"
      },
      "execution_count": 13,
      "outputs": [
        {
          "output_type": "stream",
          "name": "stdout",
          "text": [
            "Writing random_rs.py\n"
          ]
        }
      ]
    },
    {
      "cell_type": "markdown",
      "source": [
        "## 12\n",
        "\n",
        "This agent returns sum of its and opponents last actions"
      ],
      "metadata": {
        "id": "Bd3M-xEegSrq"
      }
    },
    {
      "cell_type": "code",
      "source": [
        "%%writefile sum_agent.py\n",
        "import random\n",
        "\n",
        "ROCK = 0\n",
        "PAPER = 1\n",
        "SCISSORS = 2\n",
        "\n",
        "agent_last_action = ROCK\n",
        "\n",
        "def sum_agent(observation, configuration):\n",
        "  global agent_last_action\n",
        "  if observation.step == 0:\n",
        "    next_action = random.randint(ROCK, SCISSORS)\n",
        "  elif observation.step > 0:\n",
        "    next_action = agent_last_action + observation.lastOpponentAction\n",
        "  return next_action"
      ],
      "metadata": {
        "colab": {
          "base_uri": "https://localhost:8080/"
        },
        "id": "tqfBWMA4gI0w",
        "outputId": "9dde8471-ef88-4383-99de-117c0f1fe709"
      },
      "execution_count": 79,
      "outputs": [
        {
          "output_type": "stream",
          "name": "stdout",
          "text": [
            "Overwriting sum_agent.py\n"
          ]
        }
      ]
    },
    {
      "cell_type": "markdown",
      "source": [
        "## Simulation functions"
      ],
      "metadata": {
        "id": "fp7sutXwzhYw"
      }
    },
    {
      "cell_type": "code",
      "source": [
        "def get_reward(env, player):\n",
        "  reward = env.state[0]['observation']['reward']\n",
        "  return reward\n",
        "\n",
        "def get_steps(env):\n",
        "  steps = env.state[0]['observation']['step']\n",
        "  return steps\n",
        "\n",
        "def do_simulation(agents, do_visualise=True):\n",
        "  cols = ['first_player', 'first_player_reward',\n",
        "           'second_player', 'second_player_reward',\n",
        "           'game_steps']\n",
        "  results_dict = {col:[] for col in cols}\n",
        "  for i in range(len(agents)):\n",
        "    first_player_idx = random.randint(0, agents_amount - 1)\n",
        "    second_player_idx = random.randint(0, agents_amount - 1)\n",
        "    first_player = agents[first_player_idx] + '.py'\n",
        "    second_player = agents[second_player_idx] + '.py'\n",
        "\n",
        "    env.reset()\n",
        "    # print(first_player, second_player)\n",
        "    try:\n",
        "      env.run([first_player, second_player])\n",
        "    except Exception as e:\n",
        "      print(e)\n",
        "      pass\n",
        "\n",
        "    results_dict['first_player'].append(first_player)\n",
        "    results_dict['first_player_reward'].append(get_reward(env, 0))\n",
        "    results_dict['second_player'].append(second_player)\n",
        "    results_dict['second_player_reward'].append(get_reward(env, 1))\n",
        "    results_dict['game_steps'].append(get_steps(env))\n",
        "    if do_visualise:\n",
        "      env.render(mode=\"ipython\", width=700, height=550)\n",
        "  game_results = pd.DataFrame(results_dict, columns=cols)\n",
        "  return game_results"
      ],
      "metadata": {
        "id": "CtgIFhh2laV-"
      },
      "execution_count": 62,
      "outputs": []
    },
    {
      "cell_type": "markdown",
      "source": [
        "# Simulation\n",
        "\n",
        "If `do_visualise` is True simulation will render video"
      ],
      "metadata": {
        "id": "t5Q7ifDqzr7O"
      }
    },
    {
      "cell_type": "code",
      "source": [
        "agents = ['rock', 'paper', 'scissors', 'random_agent', 'roll_rps', \n",
        "          'roll_from_random', 'copy_opponent', 'reaction_agent',\n",
        "          'none_agent', 'statistical', 'random_rs', 'sum_agent']\n",
        "agents_amount = len(agents)\n",
        "env = make(\"rps\", debug=True, configuration={\"episodeSteps\": 50})\n",
        "env.render()\n",
        "do_simulation(agents, do_visualise=False)\n"
      ],
      "metadata": {
        "id": "eLo-acdfhOHT",
        "colab": {
          "base_uri": "https://localhost:8080/",
          "height": 426
        },
        "outputId": "5406274d-0e9d-4d2f-8294-a96552aa3787"
      },
      "execution_count": 89,
      "outputs": [
        {
          "output_type": "execute_result",
          "data": {
            "text/plain": [
              "         first_player  first_player_reward        second_player  \\\n",
              "0   reaction_agent.py                    1  roll_from_random.py   \n",
              "1        sum_agent.py                  -49  roll_from_random.py   \n",
              "2       none_agent.py                  -49             paper.py   \n",
              "3         roll_rps.py                   48         sum_agent.py   \n",
              "4         scissors.py                    0       statistical.py   \n",
              "5         scissors.py                    0          scissors.py   \n",
              "6   reaction_agent.py                   -1     copy_opponent.py   \n",
              "7   reaction_agent.py                    1         sum_agent.py   \n",
              "8        sum_agent.py                    0         sum_agent.py   \n",
              "9    copy_opponent.py                    0        none_agent.py   \n",
              "10        roll_rps.py                   -7         random_rs.py   \n",
              "11        scissors.py                    1       statistical.py   \n",
              "\n",
              "    second_player_reward  game_steps  \n",
              "0                      1           3  \n",
              "1                    -49          49  \n",
              "2                    -49          49  \n",
              "3                     48          49  \n",
              "4                      0           2  \n",
              "5                      0          49  \n",
              "6                     -1           2  \n",
              "7                      1           4  \n",
              "8                      0          49  \n",
              "9                      0          49  \n",
              "10                    -7          49  \n",
              "11                     1           2  "
            ],
            "text/html": [
              "\n",
              "  <div id=\"df-c5ee0680-93f8-416e-973c-5029cfc1e66e\">\n",
              "    <div class=\"colab-df-container\">\n",
              "      <div>\n",
              "<style scoped>\n",
              "    .dataframe tbody tr th:only-of-type {\n",
              "        vertical-align: middle;\n",
              "    }\n",
              "\n",
              "    .dataframe tbody tr th {\n",
              "        vertical-align: top;\n",
              "    }\n",
              "\n",
              "    .dataframe thead th {\n",
              "        text-align: right;\n",
              "    }\n",
              "</style>\n",
              "<table border=\"1\" class=\"dataframe\">\n",
              "  <thead>\n",
              "    <tr style=\"text-align: right;\">\n",
              "      <th></th>\n",
              "      <th>first_player</th>\n",
              "      <th>first_player_reward</th>\n",
              "      <th>second_player</th>\n",
              "      <th>second_player_reward</th>\n",
              "      <th>game_steps</th>\n",
              "    </tr>\n",
              "  </thead>\n",
              "  <tbody>\n",
              "    <tr>\n",
              "      <th>0</th>\n",
              "      <td>reaction_agent.py</td>\n",
              "      <td>1</td>\n",
              "      <td>roll_from_random.py</td>\n",
              "      <td>1</td>\n",
              "      <td>3</td>\n",
              "    </tr>\n",
              "    <tr>\n",
              "      <th>1</th>\n",
              "      <td>sum_agent.py</td>\n",
              "      <td>-49</td>\n",
              "      <td>roll_from_random.py</td>\n",
              "      <td>-49</td>\n",
              "      <td>49</td>\n",
              "    </tr>\n",
              "    <tr>\n",
              "      <th>2</th>\n",
              "      <td>none_agent.py</td>\n",
              "      <td>-49</td>\n",
              "      <td>paper.py</td>\n",
              "      <td>-49</td>\n",
              "      <td>49</td>\n",
              "    </tr>\n",
              "    <tr>\n",
              "      <th>3</th>\n",
              "      <td>roll_rps.py</td>\n",
              "      <td>48</td>\n",
              "      <td>sum_agent.py</td>\n",
              "      <td>48</td>\n",
              "      <td>49</td>\n",
              "    </tr>\n",
              "    <tr>\n",
              "      <th>4</th>\n",
              "      <td>scissors.py</td>\n",
              "      <td>0</td>\n",
              "      <td>statistical.py</td>\n",
              "      <td>0</td>\n",
              "      <td>2</td>\n",
              "    </tr>\n",
              "    <tr>\n",
              "      <th>5</th>\n",
              "      <td>scissors.py</td>\n",
              "      <td>0</td>\n",
              "      <td>scissors.py</td>\n",
              "      <td>0</td>\n",
              "      <td>49</td>\n",
              "    </tr>\n",
              "    <tr>\n",
              "      <th>6</th>\n",
              "      <td>reaction_agent.py</td>\n",
              "      <td>-1</td>\n",
              "      <td>copy_opponent.py</td>\n",
              "      <td>-1</td>\n",
              "      <td>2</td>\n",
              "    </tr>\n",
              "    <tr>\n",
              "      <th>7</th>\n",
              "      <td>reaction_agent.py</td>\n",
              "      <td>1</td>\n",
              "      <td>sum_agent.py</td>\n",
              "      <td>1</td>\n",
              "      <td>4</td>\n",
              "    </tr>\n",
              "    <tr>\n",
              "      <th>8</th>\n",
              "      <td>sum_agent.py</td>\n",
              "      <td>0</td>\n",
              "      <td>sum_agent.py</td>\n",
              "      <td>0</td>\n",
              "      <td>49</td>\n",
              "    </tr>\n",
              "    <tr>\n",
              "      <th>9</th>\n",
              "      <td>copy_opponent.py</td>\n",
              "      <td>0</td>\n",
              "      <td>none_agent.py</td>\n",
              "      <td>0</td>\n",
              "      <td>49</td>\n",
              "    </tr>\n",
              "    <tr>\n",
              "      <th>10</th>\n",
              "      <td>roll_rps.py</td>\n",
              "      <td>-7</td>\n",
              "      <td>random_rs.py</td>\n",
              "      <td>-7</td>\n",
              "      <td>49</td>\n",
              "    </tr>\n",
              "    <tr>\n",
              "      <th>11</th>\n",
              "      <td>scissors.py</td>\n",
              "      <td>1</td>\n",
              "      <td>statistical.py</td>\n",
              "      <td>1</td>\n",
              "      <td>2</td>\n",
              "    </tr>\n",
              "  </tbody>\n",
              "</table>\n",
              "</div>\n",
              "      <button class=\"colab-df-convert\" onclick=\"convertToInteractive('df-c5ee0680-93f8-416e-973c-5029cfc1e66e')\"\n",
              "              title=\"Convert this dataframe to an interactive table.\"\n",
              "              style=\"display:none;\">\n",
              "        \n",
              "  <svg xmlns=\"http://www.w3.org/2000/svg\" height=\"24px\"viewBox=\"0 0 24 24\"\n",
              "       width=\"24px\">\n",
              "    <path d=\"M0 0h24v24H0V0z\" fill=\"none\"/>\n",
              "    <path d=\"M18.56 5.44l.94 2.06.94-2.06 2.06-.94-2.06-.94-.94-2.06-.94 2.06-2.06.94zm-11 1L8.5 8.5l.94-2.06 2.06-.94-2.06-.94L8.5 2.5l-.94 2.06-2.06.94zm10 10l.94 2.06.94-2.06 2.06-.94-2.06-.94-.94-2.06-.94 2.06-2.06.94z\"/><path d=\"M17.41 7.96l-1.37-1.37c-.4-.4-.92-.59-1.43-.59-.52 0-1.04.2-1.43.59L10.3 9.45l-7.72 7.72c-.78.78-.78 2.05 0 2.83L4 21.41c.39.39.9.59 1.41.59.51 0 1.02-.2 1.41-.59l7.78-7.78 2.81-2.81c.8-.78.8-2.07 0-2.86zM5.41 20L4 18.59l7.72-7.72 1.47 1.35L5.41 20z\"/>\n",
              "  </svg>\n",
              "      </button>\n",
              "      \n",
              "  <style>\n",
              "    .colab-df-container {\n",
              "      display:flex;\n",
              "      flex-wrap:wrap;\n",
              "      gap: 12px;\n",
              "    }\n",
              "\n",
              "    .colab-df-convert {\n",
              "      background-color: #E8F0FE;\n",
              "      border: none;\n",
              "      border-radius: 50%;\n",
              "      cursor: pointer;\n",
              "      display: none;\n",
              "      fill: #1967D2;\n",
              "      height: 32px;\n",
              "      padding: 0 0 0 0;\n",
              "      width: 32px;\n",
              "    }\n",
              "\n",
              "    .colab-df-convert:hover {\n",
              "      background-color: #E2EBFA;\n",
              "      box-shadow: 0px 1px 2px rgba(60, 64, 67, 0.3), 0px 1px 3px 1px rgba(60, 64, 67, 0.15);\n",
              "      fill: #174EA6;\n",
              "    }\n",
              "\n",
              "    [theme=dark] .colab-df-convert {\n",
              "      background-color: #3B4455;\n",
              "      fill: #D2E3FC;\n",
              "    }\n",
              "\n",
              "    [theme=dark] .colab-df-convert:hover {\n",
              "      background-color: #434B5C;\n",
              "      box-shadow: 0px 1px 3px 1px rgba(0, 0, 0, 0.15);\n",
              "      filter: drop-shadow(0px 1px 2px rgba(0, 0, 0, 0.3));\n",
              "      fill: #FFFFFF;\n",
              "    }\n",
              "  </style>\n",
              "\n",
              "      <script>\n",
              "        const buttonEl =\n",
              "          document.querySelector('#df-c5ee0680-93f8-416e-973c-5029cfc1e66e button.colab-df-convert');\n",
              "        buttonEl.style.display =\n",
              "          google.colab.kernel.accessAllowed ? 'block' : 'none';\n",
              "\n",
              "        async function convertToInteractive(key) {\n",
              "          const element = document.querySelector('#df-c5ee0680-93f8-416e-973c-5029cfc1e66e');\n",
              "          const dataTable =\n",
              "            await google.colab.kernel.invokeFunction('convertToInteractive',\n",
              "                                                     [key], {});\n",
              "          if (!dataTable) return;\n",
              "\n",
              "          const docLinkHtml = 'Like what you see? Visit the ' +\n",
              "            '<a target=\"_blank\" href=https://colab.research.google.com/notebooks/data_table.ipynb>data table notebook</a>'\n",
              "            + ' to learn more about interactive tables.';\n",
              "          element.innerHTML = '';\n",
              "          dataTable['output_type'] = 'display_data';\n",
              "          await google.colab.output.renderOutput(dataTable, element);\n",
              "          const docLink = document.createElement('div');\n",
              "          docLink.innerHTML = docLinkHtml;\n",
              "          element.appendChild(docLink);\n",
              "        }\n",
              "      </script>\n",
              "    </div>\n",
              "  </div>\n",
              "  "
            ]
          },
          "metadata": {},
          "execution_count": 89
        }
      ]
    }
  ]
}